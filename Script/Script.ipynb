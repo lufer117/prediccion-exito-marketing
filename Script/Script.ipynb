{
 "cells": [
  {
   "cell_type": "markdown",
   "id": "d05fbdd7",
   "metadata": {},
   "source": [
    "# Ejercicio 2. Predicción del resultado de una campaña de marketing telefónica\n",
    "\n",
    "### Por: Luisa Fernanda Bolívar Arteaga \n",
    "\n",
    "Un banco realiza una campaña de marketing telefónica para ofrecer un depósito a plazo fijo a sus clientes. La campaña se ha llevado a cabo durante 3 años y se han recopilado los datos de la misma. Ahora que se acerca el cuarto año, el banco quiere mejorar los resultados de la campaña y nos pide que desarrollemos una solución para predecir si un cliente contratará su producto o no. De esta forma, se pueden gestionar mejor las llamadas al centrarse en los usuarios con mayor propensión.\n",
    "\n",
    "A continuación desarrollo el paso a paso para dar respuesta a las preguntas planteadas en el instructivo de la Entrega 1. A lo largo del notebook se encuentran títulos donde se da respuesta a las preguntas ; de igual forma, al finalizar consolido las mismas para facilidad de lectura. "
   ]
  },
  {
   "cell_type": "markdown",
   "id": "8c29a028",
   "metadata": {},
   "source": [
    "### Paso 1. Importar paquetes de librerías y set de datos de entrenamiento y test"
   ]
  },
  {
   "cell_type": "code",
   "execution_count": 2,
   "id": "6efec447",
   "metadata": {},
   "outputs": [],
   "source": [
    "# Importamos los paquetes de las librerías necesarios\n",
    "import joblib\n",
    "import pandas as pd\n",
    "import numpy as np\n",
    "import seaborn as sns\n",
    "from sklearn.compose import ColumnTransformer\n",
    "from sklearn.pipeline import Pipeline\n",
    "from sklearn.preprocessing import OneHotEncoder\n",
    "from sklearn.compose import ColumnTransformer\n",
    "from sklearn.preprocessing import MinMaxScaler\n",
    "import matplotlib.pyplot as plt\n",
    "import sklearn.preprocessing as prep \n",
    "%matplotlib inline"
   ]
  },
  {
   "cell_type": "code",
   "execution_count": 3,
   "id": "38c108e0",
   "metadata": {},
   "outputs": [],
   "source": [
    "# Se carga el dataset de train y test\n",
    "import pandas as pd\n",
    "\n",
    "pd.read_csv (\"dataset_marketing_train.csv\")\n",
    "pd.read_csv (\"dataset_marketing_test.csv\")\n",
    "\n",
    "#renombro para fácil manejo de los dataset posteriormente\n",
    "\n",
    "marketing_train = pd.read_csv(\"dataset_marketing_train.csv\") \n",
    "marketing_test = pd.read_csv(\"dataset_marketing_test.csv\")\n",
    "\n",
    "#creo un dataset que une los datos de entrenamiento y test, con el fin único de visualizar las distribuciones del dataset completo \n",
    "\n",
    "marketing_dataset = pd.concat([marketing_train, marketing_test], ignore_index=True)"
   ]
  },
  {
   "cell_type": "code",
   "execution_count": 4,
   "id": "b5ca5b60",
   "metadata": {},
   "outputs": [
    {
     "data": {
      "text/html": [
       "<div>\n",
       "<style scoped>\n",
       "    .dataframe tbody tr th:only-of-type {\n",
       "        vertical-align: middle;\n",
       "    }\n",
       "\n",
       "    .dataframe tbody tr th {\n",
       "        vertical-align: top;\n",
       "    }\n",
       "\n",
       "    .dataframe thead th {\n",
       "        text-align: right;\n",
       "    }\n",
       "</style>\n",
       "<table border=\"1\" class=\"dataframe\">\n",
       "  <thead>\n",
       "    <tr style=\"text-align: right;\">\n",
       "      <th></th>\n",
       "      <th>edad</th>\n",
       "      <th>empleo</th>\n",
       "      <th>estado</th>\n",
       "      <th>educacion</th>\n",
       "      <th>impago</th>\n",
       "      <th>hipoteca</th>\n",
       "      <th>prestamo</th>\n",
       "      <th>tipo_contacto</th>\n",
       "      <th>mes</th>\n",
       "      <th>dia_semana</th>\n",
       "      <th>contactos_actual</th>\n",
       "      <th>contactos_anterior</th>\n",
       "      <th>resultado_anterior</th>\n",
       "      <th>tasa_var_empleo_3m</th>\n",
       "      <th>euribor_3m</th>\n",
       "      <th>ipc_1m</th>\n",
       "      <th>target</th>\n",
       "    </tr>\n",
       "  </thead>\n",
       "  <tbody>\n",
       "    <tr>\n",
       "      <th>0</th>\n",
       "      <td>26</td>\n",
       "      <td>management</td>\n",
       "      <td>single</td>\n",
       "      <td>university.degree</td>\n",
       "      <td>no</td>\n",
       "      <td>no</td>\n",
       "      <td>no</td>\n",
       "      <td>telephone</td>\n",
       "      <td>jun</td>\n",
       "      <td>mon</td>\n",
       "      <td>3</td>\n",
       "      <td>0</td>\n",
       "      <td>nonexistent</td>\n",
       "      <td>1.4</td>\n",
       "      <td>4.865</td>\n",
       "      <td>94.465</td>\n",
       "      <td>no</td>\n",
       "    </tr>\n",
       "    <tr>\n",
       "      <th>1</th>\n",
       "      <td>42</td>\n",
       "      <td>technician</td>\n",
       "      <td>married</td>\n",
       "      <td>professional.course</td>\n",
       "      <td>unknown</td>\n",
       "      <td>no</td>\n",
       "      <td>no</td>\n",
       "      <td>telephone</td>\n",
       "      <td>jun</td>\n",
       "      <td>mon</td>\n",
       "      <td>9</td>\n",
       "      <td>0</td>\n",
       "      <td>nonexistent</td>\n",
       "      <td>1.4</td>\n",
       "      <td>4.865</td>\n",
       "      <td>94.465</td>\n",
       "      <td>no</td>\n",
       "    </tr>\n",
       "    <tr>\n",
       "      <th>2</th>\n",
       "      <td>30</td>\n",
       "      <td>admin.</td>\n",
       "      <td>married</td>\n",
       "      <td>university.degree</td>\n",
       "      <td>no</td>\n",
       "      <td>no</td>\n",
       "      <td>no</td>\n",
       "      <td>telephone</td>\n",
       "      <td>jun</td>\n",
       "      <td>mon</td>\n",
       "      <td>2</td>\n",
       "      <td>0</td>\n",
       "      <td>nonexistent</td>\n",
       "      <td>1.4</td>\n",
       "      <td>4.865</td>\n",
       "      <td>94.465</td>\n",
       "      <td>no</td>\n",
       "    </tr>\n",
       "    <tr>\n",
       "      <th>3</th>\n",
       "      <td>55</td>\n",
       "      <td>technician</td>\n",
       "      <td>married</td>\n",
       "      <td>basic.9y</td>\n",
       "      <td>no</td>\n",
       "      <td>no</td>\n",
       "      <td>no</td>\n",
       "      <td>telephone</td>\n",
       "      <td>jun</td>\n",
       "      <td>mon</td>\n",
       "      <td>3</td>\n",
       "      <td>0</td>\n",
       "      <td>nonexistent</td>\n",
       "      <td>1.4</td>\n",
       "      <td>4.865</td>\n",
       "      <td>94.465</td>\n",
       "      <td>no</td>\n",
       "    </tr>\n",
       "    <tr>\n",
       "      <th>4</th>\n",
       "      <td>41</td>\n",
       "      <td>blue-collar</td>\n",
       "      <td>married</td>\n",
       "      <td>basic.4y</td>\n",
       "      <td>no</td>\n",
       "      <td>yes</td>\n",
       "      <td>no</td>\n",
       "      <td>telephone</td>\n",
       "      <td>jun</td>\n",
       "      <td>mon</td>\n",
       "      <td>2</td>\n",
       "      <td>0</td>\n",
       "      <td>nonexistent</td>\n",
       "      <td>1.4</td>\n",
       "      <td>4.865</td>\n",
       "      <td>94.465</td>\n",
       "      <td>no</td>\n",
       "    </tr>\n",
       "  </tbody>\n",
       "</table>\n",
       "</div>"
      ],
      "text/plain": [
       "   edad       empleo   estado            educacion   impago hipoteca prestamo  \\\n",
       "0    26   management   single    university.degree       no       no       no   \n",
       "1    42   technician  married  professional.course  unknown       no       no   \n",
       "2    30       admin.  married    university.degree       no       no       no   \n",
       "3    55   technician  married             basic.9y       no       no       no   \n",
       "4    41  blue-collar  married             basic.4y       no      yes       no   \n",
       "\n",
       "  tipo_contacto  mes dia_semana  contactos_actual  contactos_anterior  \\\n",
       "0     telephone  jun        mon                 3                   0   \n",
       "1     telephone  jun        mon                 9                   0   \n",
       "2     telephone  jun        mon                 2                   0   \n",
       "3     telephone  jun        mon                 3                   0   \n",
       "4     telephone  jun        mon                 2                   0   \n",
       "\n",
       "  resultado_anterior  tasa_var_empleo_3m  euribor_3m  ipc_1m target  \n",
       "0        nonexistent                 1.4       4.865  94.465     no  \n",
       "1        nonexistent                 1.4       4.865  94.465     no  \n",
       "2        nonexistent                 1.4       4.865  94.465     no  \n",
       "3        nonexistent                 1.4       4.865  94.465     no  \n",
       "4        nonexistent                 1.4       4.865  94.465     no  "
      ]
     },
     "execution_count": 4,
     "metadata": {},
     "output_type": "execute_result"
    }
   ],
   "source": [
    "#visualizo el data set de entrenamiento para conocer su tamaño y contenido\n",
    "marketing_train.head()"
   ]
  },
  {
   "cell_type": "code",
   "execution_count": 5,
   "id": "740627eb",
   "metadata": {},
   "outputs": [
    {
     "data": {
      "text/html": [
       "<div>\n",
       "<style scoped>\n",
       "    .dataframe tbody tr th:only-of-type {\n",
       "        vertical-align: middle;\n",
       "    }\n",
       "\n",
       "    .dataframe tbody tr th {\n",
       "        vertical-align: top;\n",
       "    }\n",
       "\n",
       "    .dataframe thead th {\n",
       "        text-align: right;\n",
       "    }\n",
       "</style>\n",
       "<table border=\"1\" class=\"dataframe\">\n",
       "  <thead>\n",
       "    <tr style=\"text-align: right;\">\n",
       "      <th></th>\n",
       "      <th>edad</th>\n",
       "      <th>empleo</th>\n",
       "      <th>estado</th>\n",
       "      <th>educacion</th>\n",
       "      <th>impago</th>\n",
       "      <th>hipoteca</th>\n",
       "      <th>prestamo</th>\n",
       "      <th>tipo_contacto</th>\n",
       "      <th>mes</th>\n",
       "      <th>dia_semana</th>\n",
       "      <th>contactos_actual</th>\n",
       "      <th>contactos_anterior</th>\n",
       "      <th>resultado_anterior</th>\n",
       "      <th>tasa_var_empleo_3m</th>\n",
       "      <th>euribor_3m</th>\n",
       "      <th>ipc_1m</th>\n",
       "      <th>target</th>\n",
       "    </tr>\n",
       "  </thead>\n",
       "  <tbody>\n",
       "    <tr>\n",
       "      <th>0</th>\n",
       "      <td>56</td>\n",
       "      <td>housemaid</td>\n",
       "      <td>married</td>\n",
       "      <td>basic.4y</td>\n",
       "      <td>no</td>\n",
       "      <td>no</td>\n",
       "      <td>no</td>\n",
       "      <td>telephone</td>\n",
       "      <td>may</td>\n",
       "      <td>mon</td>\n",
       "      <td>1</td>\n",
       "      <td>0</td>\n",
       "      <td>nonexistent</td>\n",
       "      <td>1.1</td>\n",
       "      <td>4.857</td>\n",
       "      <td>93.994</td>\n",
       "      <td>no</td>\n",
       "    </tr>\n",
       "    <tr>\n",
       "      <th>1</th>\n",
       "      <td>57</td>\n",
       "      <td>services</td>\n",
       "      <td>married</td>\n",
       "      <td>high.school</td>\n",
       "      <td>unknown</td>\n",
       "      <td>no</td>\n",
       "      <td>no</td>\n",
       "      <td>telephone</td>\n",
       "      <td>may</td>\n",
       "      <td>mon</td>\n",
       "      <td>1</td>\n",
       "      <td>0</td>\n",
       "      <td>nonexistent</td>\n",
       "      <td>1.1</td>\n",
       "      <td>4.857</td>\n",
       "      <td>93.994</td>\n",
       "      <td>no</td>\n",
       "    </tr>\n",
       "    <tr>\n",
       "      <th>2</th>\n",
       "      <td>37</td>\n",
       "      <td>services</td>\n",
       "      <td>married</td>\n",
       "      <td>high.school</td>\n",
       "      <td>no</td>\n",
       "      <td>yes</td>\n",
       "      <td>no</td>\n",
       "      <td>telephone</td>\n",
       "      <td>may</td>\n",
       "      <td>mon</td>\n",
       "      <td>1</td>\n",
       "      <td>0</td>\n",
       "      <td>nonexistent</td>\n",
       "      <td>1.1</td>\n",
       "      <td>4.857</td>\n",
       "      <td>93.994</td>\n",
       "      <td>no</td>\n",
       "    </tr>\n",
       "    <tr>\n",
       "      <th>3</th>\n",
       "      <td>40</td>\n",
       "      <td>admin.</td>\n",
       "      <td>married</td>\n",
       "      <td>basic.6y</td>\n",
       "      <td>no</td>\n",
       "      <td>no</td>\n",
       "      <td>no</td>\n",
       "      <td>telephone</td>\n",
       "      <td>may</td>\n",
       "      <td>mon</td>\n",
       "      <td>1</td>\n",
       "      <td>0</td>\n",
       "      <td>nonexistent</td>\n",
       "      <td>1.1</td>\n",
       "      <td>4.857</td>\n",
       "      <td>93.994</td>\n",
       "      <td>no</td>\n",
       "    </tr>\n",
       "    <tr>\n",
       "      <th>4</th>\n",
       "      <td>56</td>\n",
       "      <td>services</td>\n",
       "      <td>married</td>\n",
       "      <td>high.school</td>\n",
       "      <td>no</td>\n",
       "      <td>no</td>\n",
       "      <td>yes</td>\n",
       "      <td>telephone</td>\n",
       "      <td>may</td>\n",
       "      <td>mon</td>\n",
       "      <td>1</td>\n",
       "      <td>0</td>\n",
       "      <td>nonexistent</td>\n",
       "      <td>1.1</td>\n",
       "      <td>4.857</td>\n",
       "      <td>93.994</td>\n",
       "      <td>no</td>\n",
       "    </tr>\n",
       "  </tbody>\n",
       "</table>\n",
       "</div>"
      ],
      "text/plain": [
       "   edad     empleo   estado    educacion   impago hipoteca prestamo  \\\n",
       "0    56  housemaid  married     basic.4y       no       no       no   \n",
       "1    57   services  married  high.school  unknown       no       no   \n",
       "2    37   services  married  high.school       no      yes       no   \n",
       "3    40     admin.  married     basic.6y       no       no       no   \n",
       "4    56   services  married  high.school       no       no      yes   \n",
       "\n",
       "  tipo_contacto  mes dia_semana  contactos_actual  contactos_anterior  \\\n",
       "0     telephone  may        mon                 1                   0   \n",
       "1     telephone  may        mon                 1                   0   \n",
       "2     telephone  may        mon                 1                   0   \n",
       "3     telephone  may        mon                 1                   0   \n",
       "4     telephone  may        mon                 1                   0   \n",
       "\n",
       "  resultado_anterior  tasa_var_empleo_3m  euribor_3m  ipc_1m target  \n",
       "0        nonexistent                 1.1       4.857  93.994     no  \n",
       "1        nonexistent                 1.1       4.857  93.994     no  \n",
       "2        nonexistent                 1.1       4.857  93.994     no  \n",
       "3        nonexistent                 1.1       4.857  93.994     no  \n",
       "4        nonexistent                 1.1       4.857  93.994     no  "
      ]
     },
     "execution_count": 5,
     "metadata": {},
     "output_type": "execute_result"
    }
   ],
   "source": [
    "#visualizo el data set de test para conocer su tamaño y contenido\n",
    "marketing_test.head()"
   ]
  },
  {
   "cell_type": "markdown",
   "id": "2786bfa4",
   "metadata": {},
   "source": [
    "# Información general de los datos"
   ]
  },
  {
   "cell_type": "code",
   "execution_count": 6,
   "id": "04b339a3",
   "metadata": {},
   "outputs": [
    {
     "data": {
      "text/plain": [
       "((32652, 17), (8536, 17))"
      ]
     },
     "execution_count": 6,
     "metadata": {},
     "output_type": "execute_result"
    }
   ],
   "source": [
    "# Consulta para ver el tamaño de filas y columnas de cada dataset, confirmando los datos dados en las instrucciones de la entrega\n",
    "\n",
    "marketing_train.shape, marketing_test.shape"
   ]
  },
  {
   "cell_type": "code",
   "execution_count": 7,
   "id": "20c7f7c0",
   "metadata": {},
   "outputs": [
    {
     "name": "stdout",
     "output_type": "stream",
     "text": [
      "<class 'pandas.core.frame.DataFrame'>\n",
      "RangeIndex: 32652 entries, 0 to 32651\n",
      "Data columns (total 17 columns):\n",
      " #   Column              Non-Null Count  Dtype  \n",
      "---  ------              --------------  -----  \n",
      " 0   edad                32652 non-null  int64  \n",
      " 1   empleo              32652 non-null  object \n",
      " 2   estado              32652 non-null  object \n",
      " 3   educacion           32652 non-null  object \n",
      " 4   impago              32652 non-null  object \n",
      " 5   hipoteca            32652 non-null  object \n",
      " 6   prestamo            32652 non-null  object \n",
      " 7   tipo_contacto       32652 non-null  object \n",
      " 8   mes                 32652 non-null  object \n",
      " 9   dia_semana          32652 non-null  object \n",
      " 10  contactos_actual    32652 non-null  int64  \n",
      " 11  contactos_anterior  32652 non-null  int64  \n",
      " 12  resultado_anterior  32652 non-null  object \n",
      " 13  tasa_var_empleo_3m  32652 non-null  float64\n",
      " 14  euribor_3m          32652 non-null  float64\n",
      " 15  ipc_1m              32652 non-null  float64\n",
      " 16  target              32652 non-null  object \n",
      "dtypes: float64(3), int64(3), object(11)\n",
      "memory usage: 4.2+ MB\n"
     ]
    }
   ],
   "source": [
    "# Consula para visualizar el tipo de variables que contiene el dataset y el nombre de cada una\n",
    "marketing_train.info()"
   ]
  },
  {
   "cell_type": "code",
   "execution_count": 8,
   "id": "7905762d",
   "metadata": {},
   "outputs": [
    {
     "name": "stdout",
     "output_type": "stream",
     "text": [
      "<class 'pandas.core.frame.DataFrame'>\n",
      "RangeIndex: 8536 entries, 0 to 8535\n",
      "Data columns (total 17 columns):\n",
      " #   Column              Non-Null Count  Dtype  \n",
      "---  ------              --------------  -----  \n",
      " 0   edad                8536 non-null   int64  \n",
      " 1   empleo              8536 non-null   object \n",
      " 2   estado              8536 non-null   object \n",
      " 3   educacion           8536 non-null   object \n",
      " 4   impago              8536 non-null   object \n",
      " 5   hipoteca            8536 non-null   object \n",
      " 6   prestamo            8536 non-null   object \n",
      " 7   tipo_contacto       8536 non-null   object \n",
      " 8   mes                 8536 non-null   object \n",
      " 9   dia_semana          8536 non-null   object \n",
      " 10  contactos_actual    8536 non-null   int64  \n",
      " 11  contactos_anterior  8536 non-null   int64  \n",
      " 12  resultado_anterior  8536 non-null   object \n",
      " 13  tasa_var_empleo_3m  8536 non-null   float64\n",
      " 14  euribor_3m          8536 non-null   float64\n",
      " 15  ipc_1m              8536 non-null   float64\n",
      " 16  target              8536 non-null   object \n",
      "dtypes: float64(3), int64(3), object(11)\n",
      "memory usage: 1.1+ MB\n"
     ]
    }
   ],
   "source": [
    "# Consula para visualizar el tipo de variables que contiene el dataset y el nombre de cada una\n",
    "marketing_test.info()"
   ]
  },
  {
   "cell_type": "code",
   "execution_count": 9,
   "id": "e3f679df",
   "metadata": {},
   "outputs": [
    {
     "data": {
      "text/html": [
       "<div>\n",
       "<style scoped>\n",
       "    .dataframe tbody tr th:only-of-type {\n",
       "        vertical-align: middle;\n",
       "    }\n",
       "\n",
       "    .dataframe tbody tr th {\n",
       "        vertical-align: top;\n",
       "    }\n",
       "\n",
       "    .dataframe thead th {\n",
       "        text-align: right;\n",
       "    }\n",
       "</style>\n",
       "<table border=\"1\" class=\"dataframe\">\n",
       "  <thead>\n",
       "    <tr style=\"text-align: right;\">\n",
       "      <th></th>\n",
       "      <th>edad</th>\n",
       "      <th>contactos_actual</th>\n",
       "      <th>contactos_anterior</th>\n",
       "      <th>tasa_var_empleo_3m</th>\n",
       "      <th>euribor_3m</th>\n",
       "      <th>ipc_1m</th>\n",
       "    </tr>\n",
       "  </thead>\n",
       "  <tbody>\n",
       "    <tr>\n",
       "      <th>count</th>\n",
       "      <td>32652.000000</td>\n",
       "      <td>32652.000000</td>\n",
       "      <td>32652.000000</td>\n",
       "      <td>32652.000000</td>\n",
       "      <td>32652.000000</td>\n",
       "      <td>32652.000000</td>\n",
       "    </tr>\n",
       "    <tr>\n",
       "      <th>mean</th>\n",
       "      <td>39.930081</td>\n",
       "      <td>2.595461</td>\n",
       "      <td>0.193281</td>\n",
       "      <td>-0.117987</td>\n",
       "      <td>3.393421</td>\n",
       "      <td>93.463533</td>\n",
       "    </tr>\n",
       "    <tr>\n",
       "      <th>std</th>\n",
       "      <td>10.592293</td>\n",
       "      <td>2.819542</td>\n",
       "      <td>0.500932</td>\n",
       "      <td>1.658776</td>\n",
       "      <td>1.787415</td>\n",
       "      <td>0.601256</td>\n",
       "    </tr>\n",
       "    <tr>\n",
       "      <th>min</th>\n",
       "      <td>17.000000</td>\n",
       "      <td>1.000000</td>\n",
       "      <td>0.000000</td>\n",
       "      <td>-3.400000</td>\n",
       "      <td>0.634000</td>\n",
       "      <td>92.201000</td>\n",
       "    </tr>\n",
       "    <tr>\n",
       "      <th>25%</th>\n",
       "      <td>32.000000</td>\n",
       "      <td>1.000000</td>\n",
       "      <td>0.000000</td>\n",
       "      <td>-1.800000</td>\n",
       "      <td>1.313000</td>\n",
       "      <td>92.893000</td>\n",
       "    </tr>\n",
       "    <tr>\n",
       "      <th>50%</th>\n",
       "      <td>38.000000</td>\n",
       "      <td>2.000000</td>\n",
       "      <td>0.000000</td>\n",
       "      <td>-0.100000</td>\n",
       "      <td>4.474000</td>\n",
       "      <td>93.444000</td>\n",
       "    </tr>\n",
       "    <tr>\n",
       "      <th>75%</th>\n",
       "      <td>47.000000</td>\n",
       "      <td>3.000000</td>\n",
       "      <td>0.000000</td>\n",
       "      <td>1.400000</td>\n",
       "      <td>4.962000</td>\n",
       "      <td>93.918000</td>\n",
       "    </tr>\n",
       "    <tr>\n",
       "      <th>max</th>\n",
       "      <td>98.000000</td>\n",
       "      <td>43.000000</td>\n",
       "      <td>7.000000</td>\n",
       "      <td>1.400000</td>\n",
       "      <td>5.045000</td>\n",
       "      <td>94.767000</td>\n",
       "    </tr>\n",
       "  </tbody>\n",
       "</table>\n",
       "</div>"
      ],
      "text/plain": [
       "               edad  contactos_actual  contactos_anterior  tasa_var_empleo_3m  \\\n",
       "count  32652.000000      32652.000000        32652.000000        32652.000000   \n",
       "mean      39.930081          2.595461            0.193281           -0.117987   \n",
       "std       10.592293          2.819542            0.500932            1.658776   \n",
       "min       17.000000          1.000000            0.000000           -3.400000   \n",
       "25%       32.000000          1.000000            0.000000           -1.800000   \n",
       "50%       38.000000          2.000000            0.000000           -0.100000   \n",
       "75%       47.000000          3.000000            0.000000            1.400000   \n",
       "max       98.000000         43.000000            7.000000            1.400000   \n",
       "\n",
       "         euribor_3m        ipc_1m  \n",
       "count  32652.000000  32652.000000  \n",
       "mean       3.393421     93.463533  \n",
       "std        1.787415      0.601256  \n",
       "min        0.634000     92.201000  \n",
       "25%        1.313000     92.893000  \n",
       "50%        4.474000     93.444000  \n",
       "75%        4.962000     93.918000  \n",
       "max        5.045000     94.767000  "
      ]
     },
     "execution_count": 9,
     "metadata": {},
     "output_type": "execute_result"
    }
   ],
   "source": [
    "# Consula para visualizar la estadística descriptiva del data set de entrenamiento\n",
    "marketing_train.describe()"
   ]
  },
  {
   "cell_type": "code",
   "execution_count": 10,
   "id": "c680f2c2",
   "metadata": {},
   "outputs": [
    {
     "data": {
      "text/html": [
       "<div>\n",
       "<style scoped>\n",
       "    .dataframe tbody tr th:only-of-type {\n",
       "        vertical-align: middle;\n",
       "    }\n",
       "\n",
       "    .dataframe tbody tr th {\n",
       "        vertical-align: top;\n",
       "    }\n",
       "\n",
       "    .dataframe thead th {\n",
       "        text-align: right;\n",
       "    }\n",
       "</style>\n",
       "<table border=\"1\" class=\"dataframe\">\n",
       "  <thead>\n",
       "    <tr style=\"text-align: right;\">\n",
       "      <th></th>\n",
       "      <th>edad</th>\n",
       "      <th>contactos_actual</th>\n",
       "      <th>contactos_anterior</th>\n",
       "      <th>tasa_var_empleo_3m</th>\n",
       "      <th>euribor_3m</th>\n",
       "      <th>ipc_1m</th>\n",
       "    </tr>\n",
       "  </thead>\n",
       "  <tbody>\n",
       "    <tr>\n",
       "      <th>count</th>\n",
       "      <td>8536.000000</td>\n",
       "      <td>8536.000000</td>\n",
       "      <td>8536.000000</td>\n",
       "      <td>8536.000000</td>\n",
       "      <td>8536.000000</td>\n",
       "      <td>8536.000000</td>\n",
       "    </tr>\n",
       "    <tr>\n",
       "      <th>mean</th>\n",
       "      <td>40.383552</td>\n",
       "      <td>2.460989</td>\n",
       "      <td>0.095244</td>\n",
       "      <td>0.846439</td>\n",
       "      <td>4.492942</td>\n",
       "      <td>94.004589</td>\n",
       "    </tr>\n",
       "    <tr>\n",
       "      <th>std</th>\n",
       "      <td>9.731511</td>\n",
       "      <td>2.569138</td>\n",
       "      <td>0.462991</td>\n",
       "      <td>0.803588</td>\n",
       "      <td>1.156078</td>\n",
       "      <td>0.042392</td>\n",
       "    </tr>\n",
       "    <tr>\n",
       "      <th>min</th>\n",
       "      <td>18.000000</td>\n",
       "      <td>1.000000</td>\n",
       "      <td>0.000000</td>\n",
       "      <td>-1.700000</td>\n",
       "      <td>0.702000</td>\n",
       "      <td>93.994000</td>\n",
       "    </tr>\n",
       "    <tr>\n",
       "      <th>25%</th>\n",
       "      <td>33.000000</td>\n",
       "      <td>1.000000</td>\n",
       "      <td>0.000000</td>\n",
       "      <td>1.100000</td>\n",
       "      <td>4.856000</td>\n",
       "      <td>93.994000</td>\n",
       "    </tr>\n",
       "    <tr>\n",
       "      <th>50%</th>\n",
       "      <td>39.000000</td>\n",
       "      <td>2.000000</td>\n",
       "      <td>0.000000</td>\n",
       "      <td>1.100000</td>\n",
       "      <td>4.857000</td>\n",
       "      <td>93.994000</td>\n",
       "    </tr>\n",
       "    <tr>\n",
       "      <th>75%</th>\n",
       "      <td>47.000000</td>\n",
       "      <td>3.000000</td>\n",
       "      <td>0.000000</td>\n",
       "      <td>1.100000</td>\n",
       "      <td>4.858000</td>\n",
       "      <td>93.994000</td>\n",
       "    </tr>\n",
       "    <tr>\n",
       "      <th>max</th>\n",
       "      <td>92.000000</td>\n",
       "      <td>56.000000</td>\n",
       "      <td>6.000000</td>\n",
       "      <td>1.100000</td>\n",
       "      <td>4.864000</td>\n",
       "      <td>94.215000</td>\n",
       "    </tr>\n",
       "  </tbody>\n",
       "</table>\n",
       "</div>"
      ],
      "text/plain": [
       "              edad  contactos_actual  contactos_anterior  tasa_var_empleo_3m  \\\n",
       "count  8536.000000       8536.000000         8536.000000         8536.000000   \n",
       "mean     40.383552          2.460989            0.095244            0.846439   \n",
       "std       9.731511          2.569138            0.462991            0.803588   \n",
       "min      18.000000          1.000000            0.000000           -1.700000   \n",
       "25%      33.000000          1.000000            0.000000            1.100000   \n",
       "50%      39.000000          2.000000            0.000000            1.100000   \n",
       "75%      47.000000          3.000000            0.000000            1.100000   \n",
       "max      92.000000         56.000000            6.000000            1.100000   \n",
       "\n",
       "        euribor_3m       ipc_1m  \n",
       "count  8536.000000  8536.000000  \n",
       "mean      4.492942    94.004589  \n",
       "std       1.156078     0.042392  \n",
       "min       0.702000    93.994000  \n",
       "25%       4.856000    93.994000  \n",
       "50%       4.857000    93.994000  \n",
       "75%       4.858000    93.994000  \n",
       "max       4.864000    94.215000  "
      ]
     },
     "execution_count": 10,
     "metadata": {},
     "output_type": "execute_result"
    }
   ],
   "source": [
    "# Consula para visualizar la estadística descriptiva del data set de entrenamiento\n",
    "marketing_test.describe()"
   ]
  },
  {
   "cell_type": "markdown",
   "id": "78102209",
   "metadata": {},
   "source": [
    "### Contenido de las variables "
   ]
  },
  {
   "cell_type": "code",
   "execution_count": 11,
   "id": "abd25599",
   "metadata": {},
   "outputs": [
    {
     "name": "stdout",
     "output_type": "stream",
     "text": [
      "empleo\n",
      "admin.           8575\n",
      "blue-collar      6901\n",
      "technician       5573\n",
      "services         2990\n",
      "management       2324\n",
      "retired          1409\n",
      "entrepreneur     1153\n",
      "self-employed    1144\n",
      "housemaid         813\n",
      "unemployed        812\n",
      "student           737\n",
      "unknown           221\n",
      "Name: count, dtype: int64\n",
      "\n",
      "estado\n",
      "married     19383\n",
      "single       9559\n",
      "divorced     3645\n",
      "unknown        65\n",
      "Name: count, dtype: int64\n",
      "\n",
      "educacion\n",
      "university.degree      10240\n",
      "high.school             7475\n",
      "basic.9y                4564\n",
      "professional.course     4263\n",
      "basic.4y                3108\n",
      "basic.6y                1682\n",
      "unknown                 1304\n",
      "illiterate                16\n",
      "Name: count, dtype: int64\n",
      "\n",
      "impago\n",
      "no         26520\n",
      "unknown     6129\n",
      "yes            3\n",
      "Name: count, dtype: int64\n",
      "\n",
      "hipoteca\n",
      "yes        17584\n",
      "no         14316\n",
      "unknown      752\n",
      "Name: count, dtype: int64\n",
      "\n",
      "prestamo\n",
      "no         26897\n",
      "yes         5003\n",
      "unknown      752\n",
      "Name: count, dtype: int64\n",
      "\n",
      "tipo_contacto\n",
      "cellular     25552\n",
      "telephone     7100\n",
      "Name: count, dtype: int64\n",
      "\n",
      "mes\n",
      "jul    6863\n",
      "may    6006\n",
      "aug    5945\n",
      "jun    5089\n",
      "nov    4101\n",
      "apr    2632\n",
      "oct     718\n",
      "sep     570\n",
      "mar     546\n",
      "dec     182\n",
      "Name: count, dtype: int64\n",
      "\n",
      "dia_semana\n",
      "thu    7146\n",
      "mon    6980\n",
      "wed    6292\n",
      "tue    6199\n",
      "fri    6035\n",
      "Name: count, dtype: int64\n",
      "\n",
      "resultado_anterior\n",
      "nonexistent    27474\n",
      "failure         4049\n",
      "success         1129\n",
      "Name: count, dtype: int64\n",
      "\n",
      "target\n",
      "no     28655\n",
      "yes     3997\n",
      "Name: count, dtype: int64\n",
      "\n"
     ]
    }
   ],
   "source": [
    "# Veamos los valores de las variables categóricas\n",
    "\n",
    "for col in ['empleo', 'estado', 'educacion', 'impago', 'hipoteca', 'prestamo', 'tipo_contacto', 'mes', 'dia_semana', 'resultado_anterior', 'target']:\n",
    "    print(marketing_train[col].value_counts())\n",
    "    print('')"
   ]
  },
  {
   "cell_type": "code",
   "execution_count": 12,
   "id": "864e6a9c",
   "metadata": {},
   "outputs": [
    {
     "name": "stdout",
     "output_type": "stream",
     "text": [
      "empleo\n",
      "blue-collar      2353\n",
      "admin.           1847\n",
      "technician       1170\n",
      "services          979\n",
      "management        600\n",
      "retired           311\n",
      "entrepreneur      303\n",
      "self-employed     277\n",
      "housemaid         247\n",
      "unemployed        202\n",
      "student           138\n",
      "unknown           109\n",
      "Name: count, dtype: int64\n",
      "\n",
      "estado\n",
      "married     5545\n",
      "single      2009\n",
      "divorced     967\n",
      "unknown       15\n",
      "Name: count, dtype: int64\n",
      "\n",
      "educacion\n",
      "high.school            2040\n",
      "university.degree      1928\n",
      "basic.9y               1481\n",
      "basic.4y               1068\n",
      "professional.course     980\n",
      "basic.6y                610\n",
      "unknown                 427\n",
      "illiterate                2\n",
      "Name: count, dtype: int64\n",
      "\n",
      "impago\n",
      "no         6068\n",
      "unknown    2468\n",
      "Name: count, dtype: int64\n",
      "\n",
      "hipoteca\n",
      "no         4306\n",
      "yes        3992\n",
      "unknown     238\n",
      "Name: count, dtype: int64\n",
      "\n",
      "prestamo\n",
      "no         7053\n",
      "yes        1245\n",
      "unknown     238\n",
      "Name: count, dtype: int64\n",
      "\n",
      "tipo_contacto\n",
      "telephone    7944\n",
      "cellular      592\n",
      "Name: count, dtype: int64\n",
      "\n",
      "mes\n",
      "may    7763\n",
      "jul     311\n",
      "aug     233\n",
      "jun     229\n",
      "Name: count, dtype: int64\n",
      "\n",
      "dia_semana\n",
      "tue    1891\n",
      "wed    1842\n",
      "fri    1792\n",
      "mon    1534\n",
      "thu    1477\n",
      "Name: count, dtype: int64\n",
      "\n",
      "resultado_anterior\n",
      "nonexistent    8089\n",
      "success         244\n",
      "failure         203\n",
      "Name: count, dtype: int64\n",
      "\n",
      "target\n",
      "no     7893\n",
      "yes     643\n",
      "Name: count, dtype: int64\n",
      "\n"
     ]
    }
   ],
   "source": [
    "# Veamos los valores de las variables categóricas\n",
    "\n",
    "for col in ['empleo', 'estado', 'educacion', 'impago', 'hipoteca', 'prestamo', 'tipo_contacto', 'mes', 'dia_semana', 'resultado_anterior', 'target']:\n",
    "    print(marketing_test[col].value_counts())\n",
    "    print('')"
   ]
  },
  {
   "cell_type": "markdown",
   "id": "dfaf90d3",
   "metadata": {},
   "source": [
    "# Preprocesamiento de datos"
   ]
  },
  {
   "cell_type": "markdown",
   "id": "aece2449",
   "metadata": {},
   "source": [
    "### Duplicados \n",
    "Como se observa hay duplicados, no obstante no hay ID, entonces conservo los registros, pues no es posible verificar que efectivamente son duplicados"
   ]
  },
  {
   "cell_type": "code",
   "execution_count": 13,
   "id": "c74b76db",
   "metadata": {},
   "outputs": [
    {
     "name": "stdout",
     "output_type": "stream",
     "text": [
      "Duplicados en el conjunto de entrenamiento:\n",
      "       edad       empleo   estado            educacion   impago hipoteca  \\\n",
      "59       40       admin.  married    university.degree  unknown      yes   \n",
      "87       30     services  married          high.school       no       no   \n",
      "224      39  blue-collar  married             basic.9y       no       no   \n",
      "264      33       admin.  married          high.school       no      yes   \n",
      "541      30  blue-collar  married             basic.6y       no       no   \n",
      "...     ...          ...      ...                  ...      ...      ...   \n",
      "31901    40       admin.   single             basic.9y       no      yes   \n",
      "32139    27   technician   single    university.degree       no      yes   \n",
      "32270    35   technician  married  professional.course       no      yes   \n",
      "32304    32       admin.   single    university.degree       no      yes   \n",
      "32570    32       admin.   single          high.school       no       no   \n",
      "\n",
      "      prestamo tipo_contacto  mes dia_semana  contactos_actual  \\\n",
      "59          no     telephone  jun        mon                 1   \n",
      "87          no     telephone  jun        mon                 2   \n",
      "224         no     telephone  jun        mon                 2   \n",
      "264         no     telephone  jun        mon                 3   \n",
      "541         no     telephone  jun        tue                 1   \n",
      "...        ...           ...  ...        ...               ...   \n",
      "31901       no      cellular  may        thu                 1   \n",
      "32139       no      cellular  sep        thu                 1   \n",
      "32270       no      cellular  sep        thu                 1   \n",
      "32304       no      cellular  sep        mon                 4   \n",
      "32570       no      cellular  nov        mon                 2   \n",
      "\n",
      "       contactos_anterior resultado_anterior  tasa_var_empleo_3m  euribor_3m  \\\n",
      "59                      0        nonexistent                 1.4       4.865   \n",
      "87                      0        nonexistent                 1.4       4.865   \n",
      "224                     0        nonexistent                 1.4       4.865   \n",
      "264                     0        nonexistent                 1.4       4.865   \n",
      "541                     0        nonexistent                 1.4       4.864   \n",
      "...                   ...                ...                 ...         ...   \n",
      "31901                   3            success                -1.8       0.683   \n",
      "32139                   1            success                -1.1       0.879   \n",
      "32270                   2            failure                -1.1       0.878   \n",
      "32304                   0        nonexistent                -1.1       0.879   \n",
      "32570                   2            failure                -1.1       1.048   \n",
      "\n",
      "       ipc_1m target  \n",
      "59     94.465     no  \n",
      "87     94.465     no  \n",
      "224    94.465     no  \n",
      "264    94.465     no  \n",
      "541    94.465     no  \n",
      "...       ...    ...  \n",
      "31901  93.876    yes  \n",
      "32139  94.199    yes  \n",
      "32270  94.199     no  \n",
      "32304  94.199     no  \n",
      "32570  94.767     no  \n",
      "\n",
      "[1553 rows x 17 columns]\n",
      "\n",
      "Duplicados en el conjunto de prueba:\n",
      "      edad        empleo    estado          educacion   impago hipoteca  \\\n",
      "10      41   blue-collar   married            unknown  unknown       no   \n",
      "11      25      services    single        high.school       no      yes   \n",
      "16      35   blue-collar   married           basic.6y       no      yes   \n",
      "31      59    technician   married            unknown       no      yes   \n",
      "104     52        admin.  divorced  university.degree       no       no   \n",
      "...    ...           ...       ...                ...      ...      ...   \n",
      "7968    27        admin.    single        high.school       no       no   \n",
      "8007    37        admin.    single  university.degree       no      yes   \n",
      "8149    32        admin.    single  university.degree       no      yes   \n",
      "8384    31       student    single            unknown       no      yes   \n",
      "8387    41  entrepreneur   married  university.degree       no      yes   \n",
      "\n",
      "     prestamo tipo_contacto  mes dia_semana  contactos_actual  \\\n",
      "10         no     telephone  may        mon                 1   \n",
      "11         no     telephone  may        mon                 1   \n",
      "16         no     telephone  may        mon                 1   \n",
      "31         no     telephone  may        mon                 1   \n",
      "104        no     telephone  may        mon                 1   \n",
      "...       ...           ...  ...        ...               ...   \n",
      "7968       no      cellular  jun        tue                 2   \n",
      "8007       no      cellular  jul        fri                 2   \n",
      "8149       no      cellular  jul        thu                 2   \n",
      "8384       no      cellular  aug        thu                 2   \n",
      "8387       no      cellular  aug        thu                 1   \n",
      "\n",
      "      contactos_anterior resultado_anterior  tasa_var_empleo_3m  euribor_3m  \\\n",
      "10                     0        nonexistent                 1.1       4.857   \n",
      "11                     0        nonexistent                 1.1       4.857   \n",
      "16                     0        nonexistent                 1.1       4.857   \n",
      "31                     0        nonexistent                 1.1       4.857   \n",
      "104                    0        nonexistent                 1.1       4.857   \n",
      "...                  ...                ...                 ...         ...   \n",
      "7968                   0        nonexistent                -1.7       0.761   \n",
      "8007                   3            success                -1.7       0.790   \n",
      "8149                   1            success                -1.7       0.846   \n",
      "8384                   0        nonexistent                -1.7       0.904   \n",
      "8387                   0        nonexistent                -1.7       0.904   \n",
      "\n",
      "      ipc_1m target  \n",
      "10    93.994     no  \n",
      "11    93.994     no  \n",
      "16    93.994     no  \n",
      "31    93.994     no  \n",
      "104   93.994     no  \n",
      "...      ...    ...  \n",
      "7968  94.055    yes  \n",
      "8007  94.215     no  \n",
      "8149  94.215     no  \n",
      "8384  94.027    yes  \n",
      "8387  94.027    yes  \n",
      "\n",
      "[242 rows x 17 columns]\n"
     ]
    }
   ],
   "source": [
    "# Identificar duplicados en el conjunto de entrenamiento\n",
    "duplicados_train = marketing_train[marketing_train.duplicated()]\n",
    "\n",
    "# Identificar duplicados en el conjunto de prueba\n",
    "duplicados_test = marketing_test[marketing_test.duplicated()]\n",
    "\n",
    "# Mostrar información sobre duplicados\n",
    "print(\"Duplicados en el conjunto de entrenamiento:\")\n",
    "print(duplicados_train)\n",
    "\n",
    "print(\"\\nDuplicados en el conjunto de prueba:\")\n",
    "print(duplicados_test)"
   ]
  },
  {
   "cell_type": "markdown",
   "id": "c0711d17",
   "metadata": {},
   "source": [
    "### Nulos\n",
    "\n",
    "Como se observa, no se identifican campos nulos"
   ]
  },
  {
   "cell_type": "code",
   "execution_count": 14,
   "id": "9d84397a",
   "metadata": {},
   "outputs": [
    {
     "name": "stdout",
     "output_type": "stream",
     "text": [
      "Valores nulos por columna:\n",
      "edad                  0\n",
      "empleo                0\n",
      "estado                0\n",
      "educacion             0\n",
      "impago                0\n",
      "hipoteca              0\n",
      "prestamo              0\n",
      "tipo_contacto         0\n",
      "mes                   0\n",
      "dia_semana            0\n",
      "contactos_actual      0\n",
      "contactos_anterior    0\n",
      "resultado_anterior    0\n",
      "tasa_var_empleo_3m    0\n",
      "euribor_3m            0\n",
      "ipc_1m                0\n",
      "target                0\n",
      "dtype: int64\n",
      "\n",
      "Valores nulos por fila:\n",
      "0        0\n",
      "1        0\n",
      "2        0\n",
      "3        0\n",
      "4        0\n",
      "        ..\n",
      "41183    0\n",
      "41184    0\n",
      "41185    0\n",
      "41186    0\n",
      "41187    0\n",
      "Length: 41188, dtype: int64\n"
     ]
    }
   ],
   "source": [
    "valores_nulos = marketing_dataset.isnull()\n",
    "\n",
    "# Suma de los valores nulos por columna\n",
    "total_nulos_por_columna = valores_nulos.sum()\n",
    "\n",
    "# Suma de los valores nulos por fila (si es necesario)\n",
    "total_nulos_por_fila = valores_nulos.sum(axis=1)\n",
    "\n",
    "\n",
    "# Mostrar resultados\n",
    "print(\"Valores nulos por columna:\")\n",
    "print(total_nulos_por_columna)\n",
    "\n",
    "\n",
    "print(\"\\nValores nulos por fila:\")\n",
    "print(total_nulos_por_fila)"
   ]
  },
  {
   "cell_type": "markdown",
   "id": "6d9fc42c",
   "metadata": {},
   "source": [
    "# Análisis general de la información"
   ]
  },
  {
   "cell_type": "markdown",
   "id": "43f47b3b",
   "metadata": {},
   "source": [
    "### Ratio de conversión (porcentaje de clientes que contratan) de la campaña en el conjunto de entrenamiento (Pregunta 1)"
   ]
  },
  {
   "cell_type": "code",
   "execution_count": 15,
   "id": "7a168b6f",
   "metadata": {},
   "outputs": [
    {
     "data": {
      "text/plain": [
       "12.241210339336028"
      ]
     },
     "execution_count": 15,
     "metadata": {},
     "output_type": "execute_result"
    }
   ],
   "source": [
    "clientes_contratan = marketing_train[marketing_train['target']== 'yes'].shape[0]\n",
    "\n",
    "clientes_contactados = marketing_train.shape[0]\n",
    "\n",
    "ratio_conversion = (clientes_contratan/clientes_contactados)*100\n",
    "ratio_conversion"
   ]
  },
  {
   "cell_type": "markdown",
   "id": "dec71cd6",
   "metadata": {},
   "source": [
    "Como se observa, el ratio de conversión es del 12%. Es decir, solo el 12% de los clientes contactados contrataron el crédito "
   ]
  },
  {
   "cell_type": "code",
   "execution_count": 16,
   "id": "10179d14",
   "metadata": {},
   "outputs": [
    {
     "data": {
      "image/png": "[encoded data removed]",
      "text/plain": [
       "<Figure size 1000x800 with 1 Axes>"
      ]
     },
     "metadata": {},
     "output_type": "display_data"
    }
   ],
   "source": [
    "## Distribución del target\n",
    "\n",
    "# Configuración del tamaño de la figura\n",
    "plt.figure(figsize=(10, 8))\n",
    "\n",
    "# Crear un histograma\n",
    "plt.hist(marketing_train['target'], bins=2, color='blue', edgecolor='black')\n",
    "\n",
    "# Configuración de etiquetas y título\n",
    "plt.title('Distribución del Target en el Conjunto de Entrenamiento')\n",
    "plt.xlabel('Contratación del crédito')\n",
    "plt.ylabel('Frecuencia')\n",
    "\n",
    "# Mostrar el histograma\n",
    "plt.show()"
   ]
  },
  {
   "cell_type": "markdown",
   "id": "5e963d87",
   "metadata": {},
   "source": [
    "Como se observa, la mayoría de registros corresponden a contactos que no resultaron en la contratación del servicio "
   ]
  },
  {
   "cell_type": "markdown",
   "id": "c34d3581",
   "metadata": {},
   "source": [
    "### ¿Cómo influye el día de la semana de contacto en el resultado de la campaña? ¿Y el mes? (Pregunta 2)"
   ]
  },
  {
   "cell_type": "markdown",
   "id": "11dfb519",
   "metadata": {},
   "source": [
    "Como se observa en el siguiente gráfico, parece que el día no tiene influencia en el resultado de la campaña, puesto que su distribución es similar a lo largo de los días. "
   ]
  },
  {
   "cell_type": "code",
   "execution_count": 17,
   "id": "9c1b4529",
   "metadata": {},
   "outputs": [
    {
     "data": {
      "image/png": "[encoded data removed]",
      "text/plain": [
       "<Figure size 1000x600 with 1 Axes>"
      ]
     },
     "metadata": {},
     "output_type": "display_data"
    }
   ],
   "source": [
    "plt.figure(figsize=(10, 6))\n",
    "sns.countplot(x='dia_semana', hue='target', data=marketing_train)\n",
    "plt.title('Distribución de Resultado por Día de la Semana')\n",
    "plt.show()\n",
    "\n"
   ]
  },
  {
   "cell_type": "markdown",
   "id": "b50d0d42",
   "metadata": {},
   "source": [
    "Por su parte, el siguiente gráfico muestra la influencia entre el resultado de la campaña y el mes, donde la distribución no parece variar significativamente entre los meses de contacto"
   ]
  },
  {
   "cell_type": "code",
   "execution_count": 18,
   "id": "05eb701f",
   "metadata": {},
   "outputs": [
    {
     "data": {
      "image/png": "[encoded data removed]",
      "text/plain": [
       "<Figure size 1000x600 with 1 Axes>"
      ]
     },
     "metadata": {},
     "output_type": "display_data"
    }
   ],
   "source": [
    "plt.figure(figsize=(10, 6))\n",
    "sns.countplot(x='mes', hue='target', data=marketing_train)\n",
    "plt.title('Distribución de Resultado por mes')\n",
    "plt.show()"
   ]
  },
  {
   "cell_type": "markdown",
   "id": "1fdfe165",
   "metadata": {},
   "source": [
    "# Preprocesamiento de los datos"
   ]
  },
  {
   "cell_type": "markdown",
   "id": "0aefa9ed",
   "metadata": {},
   "source": [
    "### Conversión de columna target a binario"
   ]
  },
  {
   "cell_type": "code",
   "execution_count": 19,
   "id": "3d46533c",
   "metadata": {},
   "outputs": [],
   "source": [
    "# convierto la variable target (contrató si o no) a binario 1 o 0, para ambost datasets\n",
    "\n",
    "marketing_train['target'] = marketing_train['target'].map({'yes': 1, 'no': 0})\n",
    "marketing_test['target'] = marketing_test['target'].map({'yes': 1, 'no': 0})"
   ]
  },
  {
   "cell_type": "code",
   "execution_count": 20,
   "id": "bfe15e8b",
   "metadata": {},
   "outputs": [
    {
     "name": "stdout",
     "output_type": "stream",
     "text": [
      "target\n",
      "0    28655\n",
      "1     3997\n",
      "Name: count, dtype: int64\n",
      "\n"
     ]
    }
   ],
   "source": [
    "# confirmo que coincida con el contenido de variables del dataset de train\n",
    "\n",
    "for col in ['target']:\n",
    "    print(marketing_train[col].value_counts())\n",
    "    print('')"
   ]
  },
  {
   "cell_type": "code",
   "execution_count": 21,
   "id": "07e01789",
   "metadata": {},
   "outputs": [
    {
     "name": "stdout",
     "output_type": "stream",
     "text": [
      "target\n",
      "0    7893\n",
      "1     643\n",
      "Name: count, dtype: int64\n",
      "\n"
     ]
    }
   ],
   "source": [
    "# confirmo que coincida con el contenido de variables del dataset de test\n",
    "for col in ['target']:\n",
    "    print(marketing_test[col].value_counts())\n",
    "    print('')"
   ]
  },
  {
   "cell_type": "markdown",
   "id": "dbbf8f76",
   "metadata": {},
   "source": [
    "### Aislar variable dependiente (target) de las independientes (características)\n",
    "\n",
    "Aquí se separa cada dataset entre las variables características (independientes al resultado de la campaña) y la variable objetivo (target), como la variable dependiente de aquellas características. Esto con el fin de entrenar el modelo para predecir la variable objetivo a partir de las características. El modelo aprenderá patrones y relaciones en los datos durante esta fase de entrenamiento."
   ]
  },
  {
   "cell_type": "code",
   "execution_count": 22,
   "id": "ce33210f",
   "metadata": {},
   "outputs": [],
   "source": [
    "x_train = marketing_train.drop('target', axis=1)  # aislar las variables de la variable target en un dataframe: se dejan todas las columnas excepto 'precio'\n",
    "y_train = marketing_train['target']  # Se toma la columna 'target' como la variable objetivo (target), esta será usada en el entrenamiento del modelo\n",
    "\n",
    "x_test = marketing_test.drop('target', axis=1)  # aislar las variables de la variable target en un dataframe: se dejan todas las columnas excepto 'precio'\n",
    "y_test = marketing_test['target']  # Se toma la columna 'precio' como la variable objetivo (target), estas será usada en la prueba del modelo\n",
    "\n"
   ]
  },
  {
   "cell_type": "code",
   "execution_count": 23,
   "id": "6898d5ce",
   "metadata": {},
   "outputs": [
    {
     "name": "stdout",
     "output_type": "stream",
     "text": [
      "<class 'pandas.core.frame.DataFrame'>\n",
      "RangeIndex: 32652 entries, 0 to 32651\n",
      "Data columns (total 16 columns):\n",
      " #   Column              Non-Null Count  Dtype  \n",
      "---  ------              --------------  -----  \n",
      " 0   edad                32652 non-null  int64  \n",
      " 1   empleo              32652 non-null  object \n",
      " 2   estado              32652 non-null  object \n",
      " 3   educacion           32652 non-null  object \n",
      " 4   impago              32652 non-null  object \n",
      " 5   hipoteca            32652 non-null  object \n",
      " 6   prestamo            32652 non-null  object \n",
      " 7   tipo_contacto       32652 non-null  object \n",
      " 8   mes                 32652 non-null  object \n",
      " 9   dia_semana          32652 non-null  object \n",
      " 10  contactos_actual    32652 non-null  int64  \n",
      " 11  contactos_anterior  32652 non-null  int64  \n",
      " 12  resultado_anterior  32652 non-null  object \n",
      " 13  tasa_var_empleo_3m  32652 non-null  float64\n",
      " 14  euribor_3m          32652 non-null  float64\n",
      " 15  ipc_1m              32652 non-null  float64\n",
      "dtypes: float64(3), int64(3), object(10)\n",
      "memory usage: 4.0+ MB\n"
     ]
    }
   ],
   "source": [
    "# confirmo que el dataset x_train ya no contiene la variable target \n",
    "x_train.info()"
   ]
  },
  {
   "cell_type": "code",
   "execution_count": 24,
   "id": "ba057972",
   "metadata": {},
   "outputs": [
    {
     "name": "stdout",
     "output_type": "stream",
     "text": [
      "<class 'pandas.core.frame.DataFrame'>\n",
      "RangeIndex: 8536 entries, 0 to 8535\n",
      "Data columns (total 16 columns):\n",
      " #   Column              Non-Null Count  Dtype  \n",
      "---  ------              --------------  -----  \n",
      " 0   edad                8536 non-null   int64  \n",
      " 1   empleo              8536 non-null   object \n",
      " 2   estado              8536 non-null   object \n",
      " 3   educacion           8536 non-null   object \n",
      " 4   impago              8536 non-null   object \n",
      " 5   hipoteca            8536 non-null   object \n",
      " 6   prestamo            8536 non-null   object \n",
      " 7   tipo_contacto       8536 non-null   object \n",
      " 8   mes                 8536 non-null   object \n",
      " 9   dia_semana          8536 non-null   object \n",
      " 10  contactos_actual    8536 non-null   int64  \n",
      " 11  contactos_anterior  8536 non-null   int64  \n",
      " 12  resultado_anterior  8536 non-null   object \n",
      " 13  tasa_var_empleo_3m  8536 non-null   float64\n",
      " 14  euribor_3m          8536 non-null   float64\n",
      " 15  ipc_1m              8536 non-null   float64\n",
      "dtypes: float64(3), int64(3), object(10)\n",
      "memory usage: 1.0+ MB\n"
     ]
    }
   ],
   "source": [
    "# confirmo que el dataset x_test ya no contiene la variable target \n",
    "\n",
    "x_test.info()"
   ]
  },
  {
   "cell_type": "code",
   "execution_count": 25,
   "id": "65f0566d",
   "metadata": {},
   "outputs": [
    {
     "data": {
      "text/plain": [
       "(32652,)"
      ]
     },
     "execution_count": 25,
     "metadata": {},
     "output_type": "execute_result"
    }
   ],
   "source": [
    "y_train.shape"
   ]
  },
  {
   "cell_type": "code",
   "execution_count": 26,
   "id": "ab4a6df5",
   "metadata": {},
   "outputs": [
    {
     "data": {
      "text/plain": [
       "(8536,)"
      ]
     },
     "execution_count": 26,
     "metadata": {},
     "output_type": "execute_result"
    }
   ],
   "source": [
    "y_test.shape"
   ]
  },
  {
   "cell_type": "code",
   "execution_count": 27,
   "id": "c42cc319",
   "metadata": {},
   "outputs": [],
   "source": [
    "## Confirmo Consistencia entre datasets:\n",
    "\n",
    "assert x_train.columns.tolist() == x_test.columns.tolist(), \"Las columnas de X_train y X_test no coinciden\""
   ]
  },
  {
   "cell_type": "markdown",
   "id": "6218863f",
   "metadata": {},
   "source": [
    "### Transformación de las variables categóricas y normalización de variables numéricas (Pregunta 3)\n",
    "\n",
    "Transformo las variables categóricas en columnas one-hot \n",
    "\n",
    "Para el caso de la columna `Target` no lo realizo, pues esta es la variable target\n",
    "\n",
    "1. Se utiliza la opción \"column transformer\" con el fin de hacer que durante el preprocesamiento se tranforme columna por columna de cada data set, incluso los nuevos datos, de texto a número o de número a escala numérica, según se defina. \n",
    "\n",
    "2. One-Hot Encoding: para la transformación de las variables de texto o categóricas, he utilizado la cual crea nuevas columnas, indicando la presencia (o ausencia) de cada categoría posible en la variable original\n",
    "\n",
    "3. Escalador MinMaxScaler: con el fin de normalizar las variables númericas en una escala de 0 a 1.\n",
    "\n",
    "4. Guardar el preprocesamiento en la variable definida \"preprocessor\" y posteriormente se aplica a cada dataframe de train y test. Cabe indicar que para el dataframe de test no se aplica ajuste (fit) para no generar fuga de datos\n",
    "\n",
    "5. Nuevos dataframe: posteriormente, los datos transformados son archivados en nuevos dataframes_processed\n",
    "\n",
    "6. Guardar el preprocessor en una \"librería\" = joblib\n",
    "\n"
   ]
  },
  {
   "cell_type": "code",
   "execution_count": 28,
   "id": "bb54ad76",
   "metadata": {},
   "outputs": [],
   "source": [
    "# Instanciar el OneHotEncoder\n",
    "\n",
    "encoder = prep.OneHotEncoder(sparse_output = False, min_frequency = 0.01, handle_unknown = 'infrequent_if_exist')\n",
    "\n",
    "scaler = prep.MinMaxScaler()\n",
    "\n",
    "# Ajustar y transformar \n",
    "\n",
    "preprocessor_marketing = ColumnTransformer(\n",
    "    transformers=[\n",
    "        ('num', scaler, ['edad', 'contactos_actual', 'contactos_anterior', 'tasa_var_empleo_3m', 'euribor_3m', 'ipc_1m']),\n",
    "        ('cat', encoder, ['empleo', 'estado', 'educacion', 'impago', 'hipoteca', 'prestamo', 'tipo_contacto', 'mes', 'dia_semana', 'resultado_anterior'])\n",
    "    ])\n",
    "\n",
    "# Transformar el conjunto de entrenamiento\n",
    "x_train_processed = preprocessor_marketing.fit_transform(x_train)\n",
    "\n",
    "\n",
    "# Transformar el conjunto de prueba\n",
    "x_test_processed = preprocessor_marketing.transform(x_test) ## no ajustar el dataset de prueba\n",
    "\n",
    "# Crear dataframes\n",
    "\n",
    "x_train_processed_df = pd.DataFrame(x_train_processed, columns=preprocessor_marketing.get_feature_names_out())\n",
    "x_test_processed_df = pd.DataFrame(x_test_processed, columns=preprocessor_marketing.get_feature_names_out())"
   ]
  },
  {
   "cell_type": "code",
   "execution_count": 29,
   "id": "4f292898",
   "metadata": {},
   "outputs": [
    {
     "name": "stdout",
     "output_type": "stream",
     "text": [
      "<class 'pandas.core.frame.DataFrame'>\n",
      "RangeIndex: 32652 entries, 0 to 32651\n",
      "Data columns (total 59 columns):\n",
      " #   Column                               Non-Null Count  Dtype  \n",
      "---  ------                               --------------  -----  \n",
      " 0   num__edad                            32652 non-null  float64\n",
      " 1   num__contactos_actual                32652 non-null  float64\n",
      " 2   num__contactos_anterior              32652 non-null  float64\n",
      " 3   num__tasa_var_empleo_3m              32652 non-null  float64\n",
      " 4   num__euribor_3m                      32652 non-null  float64\n",
      " 5   num__ipc_1m                          32652 non-null  float64\n",
      " 6   cat__empleo_admin.                   32652 non-null  float64\n",
      " 7   cat__empleo_blue-collar              32652 non-null  float64\n",
      " 8   cat__empleo_entrepreneur             32652 non-null  float64\n",
      " 9   cat__empleo_housemaid                32652 non-null  float64\n",
      " 10  cat__empleo_management               32652 non-null  float64\n",
      " 11  cat__empleo_retired                  32652 non-null  float64\n",
      " 12  cat__empleo_self-employed            32652 non-null  float64\n",
      " 13  cat__empleo_services                 32652 non-null  float64\n",
      " 14  cat__empleo_student                  32652 non-null  float64\n",
      " 15  cat__empleo_technician               32652 non-null  float64\n",
      " 16  cat__empleo_unemployed               32652 non-null  float64\n",
      " 17  cat__empleo_infrequent_sklearn       32652 non-null  float64\n",
      " 18  cat__estado_divorced                 32652 non-null  float64\n",
      " 19  cat__estado_married                  32652 non-null  float64\n",
      " 20  cat__estado_single                   32652 non-null  float64\n",
      " 21  cat__estado_infrequent_sklearn       32652 non-null  float64\n",
      " 22  cat__educacion_basic.4y              32652 non-null  float64\n",
      " 23  cat__educacion_basic.6y              32652 non-null  float64\n",
      " 24  cat__educacion_basic.9y              32652 non-null  float64\n",
      " 25  cat__educacion_high.school           32652 non-null  float64\n",
      " 26  cat__educacion_professional.course   32652 non-null  float64\n",
      " 27  cat__educacion_university.degree     32652 non-null  float64\n",
      " 28  cat__educacion_unknown               32652 non-null  float64\n",
      " 29  cat__educacion_infrequent_sklearn    32652 non-null  float64\n",
      " 30  cat__impago_no                       32652 non-null  float64\n",
      " 31  cat__impago_unknown                  32652 non-null  float64\n",
      " 32  cat__impago_infrequent_sklearn       32652 non-null  float64\n",
      " 33  cat__hipoteca_no                     32652 non-null  float64\n",
      " 34  cat__hipoteca_unknown                32652 non-null  float64\n",
      " 35  cat__hipoteca_yes                    32652 non-null  float64\n",
      " 36  cat__prestamo_no                     32652 non-null  float64\n",
      " 37  cat__prestamo_unknown                32652 non-null  float64\n",
      " 38  cat__prestamo_yes                    32652 non-null  float64\n",
      " 39  cat__tipo_contacto_cellular          32652 non-null  float64\n",
      " 40  cat__tipo_contacto_telephone         32652 non-null  float64\n",
      " 41  cat__mes_apr                         32652 non-null  float64\n",
      " 42  cat__mes_aug                         32652 non-null  float64\n",
      " 43  cat__mes_jul                         32652 non-null  float64\n",
      " 44  cat__mes_jun                         32652 non-null  float64\n",
      " 45  cat__mes_mar                         32652 non-null  float64\n",
      " 46  cat__mes_may                         32652 non-null  float64\n",
      " 47  cat__mes_nov                         32652 non-null  float64\n",
      " 48  cat__mes_oct                         32652 non-null  float64\n",
      " 49  cat__mes_sep                         32652 non-null  float64\n",
      " 50  cat__mes_infrequent_sklearn          32652 non-null  float64\n",
      " 51  cat__dia_semana_fri                  32652 non-null  float64\n",
      " 52  cat__dia_semana_mon                  32652 non-null  float64\n",
      " 53  cat__dia_semana_thu                  32652 non-null  float64\n",
      " 54  cat__dia_semana_tue                  32652 non-null  float64\n",
      " 55  cat__dia_semana_wed                  32652 non-null  float64\n",
      " 56  cat__resultado_anterior_failure      32652 non-null  float64\n",
      " 57  cat__resultado_anterior_nonexistent  32652 non-null  float64\n",
      " 58  cat__resultado_anterior_success      32652 non-null  float64\n",
      "dtypes: float64(59)\n",
      "memory usage: 14.7 MB\n"
     ]
    }
   ],
   "source": [
    "# confirmo la transformación del dataset de train\n",
    "x_train_processed_df.info()"
   ]
  },
  {
   "cell_type": "code",
   "execution_count": 30,
   "id": "895da658",
   "metadata": {},
   "outputs": [
    {
     "name": "stdout",
     "output_type": "stream",
     "text": [
      "<class 'pandas.core.frame.DataFrame'>\n",
      "RangeIndex: 8536 entries, 0 to 8535\n",
      "Data columns (total 59 columns):\n",
      " #   Column                               Non-Null Count  Dtype  \n",
      "---  ------                               --------------  -----  \n",
      " 0   num__edad                            8536 non-null   float64\n",
      " 1   num__contactos_actual                8536 non-null   float64\n",
      " 2   num__contactos_anterior              8536 non-null   float64\n",
      " 3   num__tasa_var_empleo_3m              8536 non-null   float64\n",
      " 4   num__euribor_3m                      8536 non-null   float64\n",
      " 5   num__ipc_1m                          8536 non-null   float64\n",
      " 6   cat__empleo_admin.                   8536 non-null   float64\n",
      " 7   cat__empleo_blue-collar              8536 non-null   float64\n",
      " 8   cat__empleo_entrepreneur             8536 non-null   float64\n",
      " 9   cat__empleo_housemaid                8536 non-null   float64\n",
      " 10  cat__empleo_management               8536 non-null   float64\n",
      " 11  cat__empleo_retired                  8536 non-null   float64\n",
      " 12  cat__empleo_self-employed            8536 non-null   float64\n",
      " 13  cat__empleo_services                 8536 non-null   float64\n",
      " 14  cat__empleo_student                  8536 non-null   float64\n",
      " 15  cat__empleo_technician               8536 non-null   float64\n",
      " 16  cat__empleo_unemployed               8536 non-null   float64\n",
      " 17  cat__empleo_infrequent_sklearn       8536 non-null   float64\n",
      " 18  cat__estado_divorced                 8536 non-null   float64\n",
      " 19  cat__estado_married                  8536 non-null   float64\n",
      " 20  cat__estado_single                   8536 non-null   float64\n",
      " 21  cat__estado_infrequent_sklearn       8536 non-null   float64\n",
      " 22  cat__educacion_basic.4y              8536 non-null   float64\n",
      " 23  cat__educacion_basic.6y              8536 non-null   float64\n",
      " 24  cat__educacion_basic.9y              8536 non-null   float64\n",
      " 25  cat__educacion_high.school           8536 non-null   float64\n",
      " 26  cat__educacion_professional.course   8536 non-null   float64\n",
      " 27  cat__educacion_university.degree     8536 non-null   float64\n",
      " 28  cat__educacion_unknown               8536 non-null   float64\n",
      " 29  cat__educacion_infrequent_sklearn    8536 non-null   float64\n",
      " 30  cat__impago_no                       8536 non-null   float64\n",
      " 31  cat__impago_unknown                  8536 non-null   float64\n",
      " 32  cat__impago_infrequent_sklearn       8536 non-null   float64\n",
      " 33  cat__hipoteca_no                     8536 non-null   float64\n",
      " 34  cat__hipoteca_unknown                8536 non-null   float64\n",
      " 35  cat__hipoteca_yes                    8536 non-null   float64\n",
      " 36  cat__prestamo_no                     8536 non-null   float64\n",
      " 37  cat__prestamo_unknown                8536 non-null   float64\n",
      " 38  cat__prestamo_yes                    8536 non-null   float64\n",
      " 39  cat__tipo_contacto_cellular          8536 non-null   float64\n",
      " 40  cat__tipo_contacto_telephone         8536 non-null   float64\n",
      " 41  cat__mes_apr                         8536 non-null   float64\n",
      " 42  cat__mes_aug                         8536 non-null   float64\n",
      " 43  cat__mes_jul                         8536 non-null   float64\n",
      " 44  cat__mes_jun                         8536 non-null   float64\n",
      " 45  cat__mes_mar                         8536 non-null   float64\n",
      " 46  cat__mes_may                         8536 non-null   float64\n",
      " 47  cat__mes_nov                         8536 non-null   float64\n",
      " 48  cat__mes_oct                         8536 non-null   float64\n",
      " 49  cat__mes_sep                         8536 non-null   float64\n",
      " 50  cat__mes_infrequent_sklearn          8536 non-null   float64\n",
      " 51  cat__dia_semana_fri                  8536 non-null   float64\n",
      " 52  cat__dia_semana_mon                  8536 non-null   float64\n",
      " 53  cat__dia_semana_thu                  8536 non-null   float64\n",
      " 54  cat__dia_semana_tue                  8536 non-null   float64\n",
      " 55  cat__dia_semana_wed                  8536 non-null   float64\n",
      " 56  cat__resultado_anterior_failure      8536 non-null   float64\n",
      " 57  cat__resultado_anterior_nonexistent  8536 non-null   float64\n",
      " 58  cat__resultado_anterior_success      8536 non-null   float64\n",
      "dtypes: float64(59)\n",
      "memory usage: 3.8 MB\n"
     ]
    }
   ],
   "source": [
    "# confirmo la transformación del dataset de test\n",
    "x_test_processed_df.info()"
   ]
  },
  {
   "cell_type": "code",
   "execution_count": 31,
   "id": "f17812e0",
   "metadata": {},
   "outputs": [
    {
     "data": {
      "text/plain": [
       "['preprocessor_marketing.joblib']"
      ]
     },
     "execution_count": 31,
     "metadata": {},
     "output_type": "execute_result"
    }
   ],
   "source": [
    "#guardo el proceso de transformación de datos\n",
    "joblib.dump(preprocessor_marketing, 'preprocessor_marketing.joblib')\n"
   ]
  },
  {
   "cell_type": "markdown",
   "id": "1b30729e",
   "metadata": {},
   "source": [
    "# Aprendizaje automático (clasificación)"
   ]
  },
  {
   "cell_type": "code",
   "execution_count": 32,
   "id": "eeb4e101",
   "metadata": {},
   "outputs": [
    {
     "name": "stdout",
     "output_type": "stream",
     "text": [
      "Requirement already satisfied: joblib in c:\\users\\luisa\\appdata\\local\\programs\\python\\python312\\lib\\site-packages (1.3.2)Note: you may need to restart the kernel to use updated packages.\n",
      "\n"
     ]
    },
    {
     "name": "stderr",
     "output_type": "stream",
     "text": [
      "\n",
      "[notice] A new release of pip is available: 23.2.1 -> 23.3.2\n",
      "[notice] To update, run: python.exe -m pip install --upgrade pip\n"
     ]
    }
   ],
   "source": [
    "pip install joblib"
   ]
  },
  {
   "cell_type": "markdown",
   "id": "879b2ba7",
   "metadata": {},
   "source": [
    "## Regresión logística"
   ]
  },
  {
   "cell_type": "code",
   "execution_count": 33,
   "id": "4638545f",
   "metadata": {},
   "outputs": [],
   "source": [
    "import joblib\n",
    "from sklearn.pipeline import Pipeline\n",
    "from sklearn.linear_model import LogisticRegression"
   ]
  },
  {
   "cell_type": "code",
   "execution_count": 34,
   "id": "2e58aad0",
   "metadata": {},
   "outputs": [
    {
     "name": "stderr",
     "output_type": "stream",
     "text": [
      "c:\\Users\\LUISA\\AppData\\Local\\Programs\\Python\\Python312\\Lib\\site-packages\\sklearn\\linear_model\\_logistic.py:460: ConvergenceWarning: lbfgs failed to converge (status=1):\n",
      "STOP: TOTAL NO. of ITERATIONS REACHED LIMIT.\n",
      "\n",
      "Increase the number of iterations (max_iter) or scale the data as shown in:\n",
      "    https://scikit-learn.org/stable/modules/preprocessing.html\n",
      "Please also refer to the documentation for alternative solver options:\n",
      "    https://scikit-learn.org/stable/modules/linear_model.html#logistic-regression\n",
      "  n_iter_i = _check_optimize_result(\n"
     ]
    },
    {
     "data": {
      "text/html": [
       "<style>#sk-container-id-1 {color: black;}#sk-container-id-1 pre{padding: 0;}#sk-container-id-1 div.sk-toggleable {background-color: white;}#sk-container-id-1 label.sk-toggleable__label {cursor: pointer;display: block;width: 100%;margin-bottom: 0;padding: 0.3em;box-sizing: border-box;text-align: center;}#sk-container-id-1 label.sk-toggleable__label-arrow:before {content: \"▸\";float: left;margin-right: 0.25em;color: #696969;}#sk-container-id-1 label.sk-toggleable__label-arrow:hover:before {color: black;}#sk-container-id-1 div.sk-estimator:hover label.sk-toggleable__label-arrow:before {color: black;}#sk-container-id-1 div.sk-toggleable__content {max-height: 0;max-width: 0;overflow: hidden;text-align: left;background-color: #f0f8ff;}#sk-container-id-1 div.sk-toggleable__content pre {margin: 0.2em;color: black;border-radius: 0.25em;background-color: #f0f8ff;}#sk-container-id-1 input.sk-toggleable__control:checked~div.sk-toggleable__content {max-height: 200px;max-width: 100%;overflow: auto;}#sk-container-id-1 input.sk-toggleable__control:checked~label.sk-toggleable__label-arrow:before {content: \"▾\";}#sk-container-id-1 div.sk-estimator input.sk-toggleable__control:checked~label.sk-toggleable__label {background-color: #d4ebff;}#sk-container-id-1 div.sk-label input.sk-toggleable__control:checked~label.sk-toggleable__label {background-color: #d4ebff;}#sk-container-id-1 input.sk-hidden--visually {border: 0;clip: rect(1px 1px 1px 1px);clip: rect(1px, 1px, 1px, 1px);height: 1px;margin: -1px;overflow: hidden;padding: 0;position: absolute;width: 1px;}#sk-container-id-1 div.sk-estimator {font-family: monospace;background-color: #f0f8ff;border: 1px dotted black;border-radius: 0.25em;box-sizing: border-box;margin-bottom: 0.5em;}#sk-container-id-1 div.sk-estimator:hover {background-color: #d4ebff;}#sk-container-id-1 div.sk-parallel-item::after {content: \"\";width: 100%;border-bottom: 1px solid gray;flex-grow: 1;}#sk-container-id-1 div.sk-label:hover label.sk-toggleable__label {background-color: #d4ebff;}#sk-container-id-1 div.sk-serial::before {content: \"\";position: absolute;border-left: 1px solid gray;box-sizing: border-box;top: 0;bottom: 0;left: 50%;z-index: 0;}#sk-container-id-1 div.sk-serial {display: flex;flex-direction: column;align-items: center;background-color: white;padding-right: 0.2em;padding-left: 0.2em;position: relative;}#sk-container-id-1 div.sk-item {position: relative;z-index: 1;}#sk-container-id-1 div.sk-parallel {display: flex;align-items: stretch;justify-content: center;background-color: white;position: relative;}#sk-container-id-1 div.sk-item::before, #sk-container-id-1 div.sk-parallel-item::before {content: \"\";position: absolute;border-left: 1px solid gray;box-sizing: border-box;top: 0;bottom: 0;left: 50%;z-index: -1;}#sk-container-id-1 div.sk-parallel-item {display: flex;flex-direction: column;z-index: 1;position: relative;background-color: white;}#sk-container-id-1 div.sk-parallel-item:first-child::after {align-self: flex-end;width: 50%;}#sk-container-id-1 div.sk-parallel-item:last-child::after {align-self: flex-start;width: 50%;}#sk-container-id-1 div.sk-parallel-item:only-child::after {width: 0;}#sk-container-id-1 div.sk-dashed-wrapped {border: 1px dashed gray;margin: 0 0.4em 0.5em 0.4em;box-sizing: border-box;padding-bottom: 0.4em;background-color: white;}#sk-container-id-1 div.sk-label label {font-family: monospace;font-weight: bold;display: inline-block;line-height: 1.2em;}#sk-container-id-1 div.sk-label-container {text-align: center;}#sk-container-id-1 div.sk-container {/* jupyter's `normalize.less` sets `[hidden] { display: none; }` but bootstrap.min.css set `[hidden] { display: none !important; }` so we also need the `!important` here to be able to override the default hidden behavior on the sphinx rendered scikit-learn.org. See: https://github.com/scikit-learn/scikit-learn/issues/21755 */display: inline-block !important;position: relative;}#sk-container-id-1 div.sk-text-repr-fallback {display: none;}</style><div id=\"sk-container-id-1\" class=\"sk-top-container\"><div class=\"sk-text-repr-fallback\"><pre>LogisticRegression(random_state=42)</pre><b>In a Jupyter environment, please rerun this cell to show the HTML representation or trust the notebook. <br />On GitHub, the HTML representation is unable to render, please try loading this page with nbviewer.org.</b></div><div class=\"sk-container\" hidden><div class=\"sk-item\"><div class=\"sk-estimator sk-toggleable\"><input class=\"sk-toggleable__control sk-hidden--visually\" id=\"sk-estimator-id-1\" type=\"checkbox\" checked><label for=\"sk-estimator-id-1\" class=\"sk-toggleable__label sk-toggleable__label-arrow\">LogisticRegression</label><div class=\"sk-toggleable__content\"><pre>LogisticRegression(random_state=42)</pre></div></div></div></div></div>"
      ],
      "text/plain": [
       "LogisticRegression(random_state=42)"
      ]
     },
     "execution_count": 34,
     "metadata": {},
     "output_type": "execute_result"
    }
   ],
   "source": [
    "# Creamos el objeto del modelo con parámetros por defecto, fijando la semilla para evitar aleatoriedad\n",
    "logreg = LogisticRegression(random_state=42)\n",
    "\n",
    "# Entrenamos con el conjunto de train y su target\n",
    "logreg.fit(x_train_processed_df, y_train)"
   ]
  },
  {
   "cell_type": "code",
   "execution_count": 35,
   "id": "708b1be9",
   "metadata": {},
   "outputs": [
    {
     "data": {
      "text/plain": [
       "(1, 59)"
      ]
     },
     "execution_count": 35,
     "metadata": {},
     "output_type": "execute_result"
    }
   ],
   "source": [
    "logreg.coef_.shape"
   ]
  },
  {
   "cell_type": "code",
   "execution_count": 36,
   "id": "554a26cc",
   "metadata": {},
   "outputs": [
    {
     "name": "stdout",
     "output_type": "stream",
     "text": [
      "[0 1]\n"
     ]
    }
   ],
   "source": [
    "print (logreg.classes_)"
   ]
  },
  {
   "cell_type": "markdown",
   "id": "d511925d",
   "metadata": {},
   "source": [
    "#### Desempeño del modelo"
   ]
  },
  {
   "cell_type": "code",
   "execution_count": 37,
   "id": "cd91681b",
   "metadata": {},
   "outputs": [
    {
     "name": "stdout",
     "output_type": "stream",
     "text": [
      "Accuracy en train:  0.8897770427538895\n",
      "Accuracy en test:  0.9369728209934396\n"
     ]
    }
   ],
   "source": [
    "print('Accuracy en train: ', logreg.score(x_train_processed_df, y_train))\n",
    "print('Accuracy en test: ', logreg.score(x_test_processed_df, y_test))"
   ]
  },
  {
   "cell_type": "markdown",
   "id": "84a5b573",
   "metadata": {},
   "source": [
    "Obtuve un 93% de tasa de acierto en mi conjunto de test, lo cual coincide con el requerimiento del banco"
   ]
  },
  {
   "cell_type": "markdown",
   "id": "63e12e36",
   "metadata": {},
   "source": [
    "#### Predicciones y probabilidades del conjunto de validación"
   ]
  },
  {
   "cell_type": "code",
   "execution_count": 38,
   "id": "394b813f",
   "metadata": {},
   "outputs": [
    {
     "name": "stdout",
     "output_type": "stream",
     "text": [
      "[0 0 0 0 0]\n",
      "[[0.96694764 0.03305236]\n",
      " [0.97696957 0.02303043]\n",
      " [0.97026876 0.02973124]\n",
      " [0.95858222 0.04141778]\n",
      " [0.9704247  0.0295753 ]]\n"
     ]
    }
   ],
   "source": [
    "preds = logreg.predict(x_test_processed_df) # predicción del conjunto de validación\n",
    "y_probs = logreg.predict_proba(x_test_processed_df) # probabilidades de contratar o no, en el conjunto de test\n",
    "\n",
    "print(preds[:5])\n",
    "print(y_probs[:5])"
   ]
  },
  {
   "cell_type": "code",
   "execution_count": 39,
   "id": "5061080d",
   "metadata": {},
   "outputs": [
    {
     "data": {
      "text/plain": [
       "(8536, 2)"
      ]
     },
     "execution_count": 39,
     "metadata": {},
     "output_type": "execute_result"
    }
   ],
   "source": [
    "y_probs.shape #En un arreglo de este tipo, generalmente, una columna representa la probabilidad de la clase negativa (por ejemplo, 0), y la otra la probabilidad de la clase positiva (por ejemplo, 1)."
   ]
  },
  {
   "cell_type": "markdown",
   "id": "fe8f6084",
   "metadata": {},
   "source": [
    "#### Otras métricas "
   ]
  },
  {
   "cell_type": "code",
   "execution_count": 40,
   "id": "c4615068",
   "metadata": {},
   "outputs": [
    {
     "name": "stdout",
     "output_type": "stream",
     "text": [
      "Precision: 0.937\n",
      "Recall 0.937\n",
      "[[7685  208]\n",
      " [ 330  313]]\n"
     ]
    }
   ],
   "source": [
    "from sklearn.metrics import precision_score, recall_score, confusion_matrix\n",
    "\n",
    "# Calculamos las métricas globales, con el parámetro average\n",
    "precision = precision_score(y_test, preds, average = 'micro')\n",
    "recall = recall_score(y_test, preds, average = 'micro')\n",
    "cm = confusion_matrix(y_test, preds)\n",
    "\n",
    "print('Precision: %.3f' % precision)\n",
    "print('Recall %.3f' % recall)\n",
    "print(cm)"
   ]
  },
  {
   "cell_type": "markdown",
   "id": "afadf09e",
   "metadata": {},
   "source": [
    "Vemos que en este caso el modelo bueno, con una precisión y un recall por encima de 0.94. \n",
    "\n",
    "La matriz de confusión indica: \n",
    "\n",
    "En la fila 1, columna 1: Verdaderos Negativos (TN) = 7685 Instancias que son negativas y fueron clasificadas correctamente como negativas.\n",
    "\n",
    "En la fila 1, columna 2: Falsos Positivos (FP) = 208 Instancias que son negativas pero fueron clasificadas incorrectamente como positivas.\n",
    "\n",
    "En la fila 2, columna 1: Falsos Negativos (FN) = 330 Instancias que son positivas pero fueron clasificadas incorrectamente como negativas.\n",
    "\n",
    "En la fila 2, columna 2: Verdaderos Positivos (TP) = 313 Instancias que son positivas y fueron clasificadas correctamente como positivas"
   ]
  },
  {
   "cell_type": "code",
   "execution_count": 41,
   "id": "ce4df3db",
   "metadata": {},
   "outputs": [],
   "source": [
    "# probabilidades de la clase positiva (1)\n",
    "\n",
    "y_probs_positiva = y_probs[:, 1]"
   ]
  },
  {
   "cell_type": "markdown",
   "id": "9f842c84",
   "metadata": {},
   "source": [
    "### Curva ROC del modelo y calculo de su AUC en el conjunto de test (Pregunta 4)\n",
    "\n",
    "ROC: Se crea representando el ratio de falsos positivos (eje X) y el de verdaderos positivos (eje Y) para diferentes valores del punto de corte"
   ]
  },
  {
   "cell_type": "code",
   "execution_count": 42,
   "id": "52eb70c2",
   "metadata": {},
   "outputs": [
    {
     "data": {
      "image/png": "[encoded data removed]",
      "text/plain": [
       "<Figure size 800x800 with 1 Axes>"
      ]
     },
     "metadata": {},
     "output_type": "display_data"
    }
   ],
   "source": [
    "from sklearn.metrics import roc_curve, auc\n",
    "import matplotlib.pyplot as plt\n",
    "\n",
    "\n",
    "# Calcular la tasa de falsos positivos, la tasa de verdaderos positivos y los umbrales\n",
    "fpr, tpr, thresholds = roc_curve(y_test, y_probs_positiva) ##fpr: false positive rates, tpr: true positive rate, thresolds: umbrales\n",
    "\n",
    "# Calcular el área bajo la curva ROC (AUC-ROC)\n",
    "roc_auc = auc(fpr, tpr)\n",
    "\n",
    "# Trazar la curva ROC\n",
    "plt.figure(figsize=(8, 8))\n",
    "plt.plot(fpr, tpr, color='darkorange', lw=2, label='Curva ROC (AUC = {:.2f})'.format(roc_auc))\n",
    "plt.plot([0, 1], [0, 1], color='navy', lw=2, linestyle='--', label='Línea referencia para modelo aleatorio')\n",
    "plt.xlabel(\"Ratio falsos positivos (FPR)\")\n",
    "plt.ylabel(\"Ratio verdaderos positivos (TPR)\")\n",
    "plt.title('Curva ROC')\n",
    "plt.legend(loc='lower right')\n",
    "plt.show()"
   ]
  },
  {
   "cell_type": "markdown",
   "id": "dc160404",
   "metadata": {},
   "source": [
    "El resultado AUC es 0.80, aunque está un poco lejano a 1, en problemas reales un AUC superio a 0.7 se considera un buen resultado. "
   ]
  },
  {
   "cell_type": "markdown",
   "id": "63e67bd9",
   "metadata": {},
   "source": [
    "### Elegir un umbral (punto de corte) adecuado para maximizar el balance de la campaña\n",
    "\n",
    "Necesito maximizar la precisión, es decir, maximizar la predicción de verdaderos positivos (clientes que contratan) en relación con el total de clientes contactados\n",
    "\n",
    "Esto, identificando un punto de corte donde la probabilidad a partir de allí sea la clase positiva (contrata) como resultado de la predicción. \n",
    "\n",
    "Por ejemplo, un punto de corte de 0.1 indicará que todos los registros cuya probabilidad estimada sea superior a 0.1, se clasificarán como positivos.\n",
    "\n",
    "La elección del punto de corte tiene efecto en el rendimiento del clasificador. Un punto de corte bajo hará que sea más conservador (más registros identificados positivos) que al elegir un punto de corte alto\n",
    "\n",
    "La precisión se relaciona directamente con el número de clientes que contratan\n",
    "\n",
    "###### Balance = 50€ x Clientes que contratan - 5€ x Clientes contactados"
   ]
  },
  {
   "cell_type": "code",
   "execution_count": 43,
   "id": "07bcccf0",
   "metadata": {},
   "outputs": [
    {
     "name": "stdout",
     "output_type": "stream",
     "text": [
      "Umbral (Punto de corte) 0.00 | Precisión: 0.075, Recall: 1.000\n",
      "Umbral (Punto de corte) 0.01 | Precisión: 0.075, Recall: 1.000\n",
      "Umbral (Punto de corte) 0.02 | Precisión: 0.075, Recall: 0.991\n",
      "Umbral (Punto de corte) 0.03 | Precisión: 0.085, Recall: 0.932\n",
      "Umbral (Punto de corte) 0.04 | Precisión: 0.124, Recall: 0.782\n",
      "Umbral (Punto de corte) 0.05 | Precisión: 0.281, Recall: 0.669\n",
      "Umbral (Punto de corte) 0.06 | Precisión: 0.490, Recall: 0.630\n",
      "Umbral (Punto de corte) 0.07 | Precisión: 0.521, Recall: 0.627\n",
      "Umbral (Punto de corte) 0.08 | Precisión: 0.521, Recall: 0.627\n",
      "Umbral (Punto de corte) 0.09 | Precisión: 0.521, Recall: 0.627\n",
      "Umbral (Punto de corte) 0.10 | Precisión: 0.521, Recall: 0.627\n",
      "Umbral (Punto de corte) 0.11 | Precisión: 0.521, Recall: 0.627\n",
      "Umbral (Punto de corte) 0.12 | Precisión: 0.521, Recall: 0.627\n",
      "Umbral (Punto de corte) 0.13 | Precisión: 0.521, Recall: 0.627\n",
      "Umbral (Punto de corte) 0.14 | Precisión: 0.521, Recall: 0.627\n",
      "Umbral (Punto de corte) 0.15 | Precisión: 0.521, Recall: 0.627\n",
      "Umbral (Punto de corte) 0.16 | Precisión: 0.521, Recall: 0.627\n",
      "Umbral (Punto de corte) 0.17 | Precisión: 0.523, Recall: 0.627\n",
      "Umbral (Punto de corte) 0.18 | Precisión: 0.525, Recall: 0.627\n",
      "Umbral (Punto de corte) 0.19 | Precisión: 0.526, Recall: 0.625\n",
      "Umbral (Punto de corte) 0.20 | Precisión: 0.528, Recall: 0.625\n",
      "Umbral (Punto de corte) 0.21 | Precisión: 0.531, Recall: 0.621\n",
      "Umbral (Punto de corte) 0.22 | Precisión: 0.530, Recall: 0.616\n",
      "Umbral (Punto de corte) 0.23 | Precisión: 0.534, Recall: 0.613\n",
      "Umbral (Punto de corte) 0.24 | Precisión: 0.538, Recall: 0.613\n",
      "Umbral (Punto de corte) 0.25 | Precisión: 0.542, Recall: 0.610\n",
      "Umbral (Punto de corte) 0.26 | Precisión: 0.543, Recall: 0.603\n",
      "Umbral (Punto de corte) 0.27 | Precisión: 0.543, Recall: 0.593\n",
      "Umbral (Punto de corte) 0.28 | Precisión: 0.548, Recall: 0.588\n",
      "Umbral (Punto de corte) 0.29 | Precisión: 0.555, Recall: 0.580\n",
      "Umbral (Punto de corte) 0.30 | Precisión: 0.560, Recall: 0.579\n",
      "Umbral (Punto de corte) 0.31 | Precisión: 0.560, Recall: 0.577\n",
      "Umbral (Punto de corte) 0.32 | Precisión: 0.561, Recall: 0.575\n",
      "Umbral (Punto de corte) 0.33 | Precisión: 0.559, Recall: 0.571\n",
      "Umbral (Punto de corte) 0.34 | Precisión: 0.559, Recall: 0.566\n",
      "Umbral (Punto de corte) 0.35 | Precisión: 0.563, Recall: 0.561\n"
     ]
    },
    {
     "name": "stdout",
     "output_type": "stream",
     "text": [
      "Umbral (Punto de corte) 0.36 | Precisión: 0.567, Recall: 0.560\n",
      "Umbral (Punto de corte) 0.37 | Precisión: 0.567, Recall: 0.549\n",
      "Umbral (Punto de corte) 0.38 | Precisión: 0.566, Recall: 0.547\n",
      "Umbral (Punto de corte) 0.39 | Precisión: 0.568, Recall: 0.543\n",
      "Umbral (Punto de corte) 0.40 | Precisión: 0.570, Recall: 0.541\n",
      "Umbral (Punto de corte) 0.41 | Precisión: 0.575, Recall: 0.540\n",
      "Umbral (Punto de corte) 0.42 | Precisión: 0.573, Recall: 0.530\n",
      "Umbral (Punto de corte) 0.43 | Precisión: 0.576, Recall: 0.529\n",
      "Umbral (Punto de corte) 0.44 | Precisión: 0.576, Recall: 0.524\n",
      "Umbral (Punto de corte) 0.45 | Precisión: 0.580, Recall: 0.521\n",
      "Umbral (Punto de corte) 0.46 | Precisión: 0.582, Recall: 0.518\n",
      "Umbral (Punto de corte) 0.47 | Precisión: 0.590, Recall: 0.516\n",
      "Umbral (Punto de corte) 0.48 | Precisión: 0.594, Recall: 0.504\n",
      "Umbral (Punto de corte) 0.49 | Precisión: 0.598, Recall: 0.495\n",
      "Umbral (Punto de corte) 0.51 | Precisión: 0.602, Recall: 0.482\n",
      "Umbral (Punto de corte) 0.52 | Precisión: 0.613, Recall: 0.481\n",
      "Umbral (Punto de corte) 0.53 | Precisión: 0.623, Recall: 0.473\n",
      "Umbral (Punto de corte) 0.54 | Precisión: 0.628, Recall: 0.460\n",
      "Umbral (Punto de corte) 0.55 | Precisión: 0.646, Recall: 0.451\n",
      "Umbral (Punto de corte) 0.56 | Precisión: 0.652, Recall: 0.431\n",
      "Umbral (Punto de corte) 0.57 | Precisión: 0.673, Recall: 0.423\n",
      "Umbral (Punto de corte) 0.58 | Precisión: 0.686, Recall: 0.414\n",
      "Umbral (Punto de corte) 0.59 | Precisión: 0.694, Recall: 0.403\n",
      "Umbral (Punto de corte) 0.60 | Precisión: 0.711, Recall: 0.387\n",
      "Umbral (Punto de corte) 0.61 | Precisión: 0.717, Recall: 0.367\n",
      "Umbral (Punto de corte) 0.62 | Precisión: 0.725, Recall: 0.361\n",
      "Umbral (Punto de corte) 0.63 | Precisión: 0.740, Recall: 0.350\n",
      "Umbral (Punto de corte) 0.64 | Precisión: 0.752, Recall: 0.330\n",
      "Umbral (Punto de corte) 0.65 | Precisión: 0.766, Recall: 0.320\n",
      "Umbral (Punto de corte) 0.66 | Precisión: 0.764, Recall: 0.302\n",
      "Umbral (Punto de corte) 0.67 | Precisión: 0.769, Recall: 0.285\n",
      "Umbral (Punto de corte) 0.68 | Precisión: 0.778, Recall: 0.272\n",
      "Umbral (Punto de corte) 0.69 | Precisión: 0.790, Recall: 0.252\n",
      "Umbral (Punto de corte) 0.70 | Precisión: 0.788, Recall: 0.243\n",
      "Umbral (Punto de corte) 0.71 | Precisión: 0.795, Recall: 0.235\n",
      "Umbral (Punto de corte) 0.72 | Precisión: 0.801, Recall: 0.226\n",
      "Umbral (Punto de corte) 0.73 | Precisión: 0.803, Recall: 0.216\n",
      "Umbral (Punto de corte) 0.74 | Precisión: 0.800, Recall: 0.212\n",
      "Umbral (Punto de corte) 0.75 | Precisión: 0.805, Recall: 0.212\n",
      "Umbral (Punto de corte) 0.76 | Precisión: 0.805, Recall: 0.212\n",
      "Umbral (Punto de corte) 0.77 | Precisión: 0.810, Recall: 0.212\n",
      "Umbral (Punto de corte) 0.78 | Precisión: 0.810, Recall: 0.212\n",
      "Umbral (Punto de corte) 0.79 | Precisión: 0.808, Recall: 0.210\n",
      "Umbral (Punto de corte) 0.80 | Precisión: 0.802, Recall: 0.202\n",
      "Umbral (Punto de corte) 0.81 | Precisión: 0.804, Recall: 0.198\n",
      "Umbral (Punto de corte) 0.82 | Precisión: 0.800, Recall: 0.193\n",
      "Umbral (Punto de corte) 0.83 | Precisión: 0.816, Recall: 0.187\n",
      "Umbral (Punto de corte) 0.84 | Precisión: 0.825, Recall: 0.176\n",
      "Umbral (Punto de corte) 0.85 | Precisión: 0.825, Recall: 0.154\n",
      "Umbral (Punto de corte) 0.86 | Precisión: 0.812, Recall: 0.128\n",
      "Umbral (Punto de corte) 0.87 | Precisión: 0.894, Recall: 0.092\n",
      "Umbral (Punto de corte) 0.88 | Precisión: 0.889, Recall: 0.062\n",
      "Umbral (Punto de corte) 0.89 | Precisión: 0.963, Recall: 0.040\n",
      "Umbral (Punto de corte) 0.90 | Precisión: 1.000, Recall: 0.020\n",
      "Umbral (Punto de corte) 0.91 | Precisión: 1.000, Recall: 0.008\n",
      "Umbral (Punto de corte) 0.92 | Precisión: 1.000, Recall: 0.003\n",
      "Umbral (Punto de corte) 0.93 | Precisión: 0.000, Recall: 0.000\n",
      "Umbral (Punto de corte) 0.94 | Precisión: 0.000, Recall: 0.000\n",
      "Umbral (Punto de corte) 0.95 | Precisión: 0.000, Recall: 0.000\n",
      "Umbral (Punto de corte) 0.96 | Precisión: 0.000, Recall: 0.000\n",
      "Umbral (Punto de corte) 0.97 | Precisión: 0.000, Recall: 0.000\n",
      "Umbral (Punto de corte) 0.98 | Precisión: 0.000, Recall: 0.000\n"
     ]
    },
    {
     "name": "stderr",
     "output_type": "stream",
     "text": [
      "c:\\Users\\LUISA\\AppData\\Local\\Programs\\Python\\Python312\\Lib\\site-packages\\sklearn\\metrics\\_classification.py:1471: UndefinedMetricWarning: Precision is ill-defined and being set to 0.0 due to no predicted samples. Use `zero_division` parameter to control this behavior.\n",
      "  _warn_prf(average, modifier, msg_start, len(result))\n",
      "c:\\Users\\LUISA\\AppData\\Local\\Programs\\Python\\Python312\\Lib\\site-packages\\sklearn\\metrics\\_classification.py:1471: UndefinedMetricWarning: Precision is ill-defined and being set to 0.0 due to no predicted samples. Use `zero_division` parameter to control this behavior.\n",
      "  _warn_prf(average, modifier, msg_start, len(result))\n",
      "c:\\Users\\LUISA\\AppData\\Local\\Programs\\Python\\Python312\\Lib\\site-packages\\sklearn\\metrics\\_classification.py:1471: UndefinedMetricWarning: Precision is ill-defined and being set to 0.0 due to no predicted samples. Use `zero_division` parameter to control this behavior.\n",
      "  _warn_prf(average, modifier, msg_start, len(result))\n",
      "c:\\Users\\LUISA\\AppData\\Local\\Programs\\Python\\Python312\\Lib\\site-packages\\sklearn\\metrics\\_classification.py:1471: UndefinedMetricWarning: Precision is ill-defined and being set to 0.0 due to no predicted samples. Use `zero_division` parameter to control this behavior.\n",
      "  _warn_prf(average, modifier, msg_start, len(result))\n",
      "c:\\Users\\LUISA\\AppData\\Local\\Programs\\Python\\Python312\\Lib\\site-packages\\sklearn\\metrics\\_classification.py:1471: UndefinedMetricWarning: Precision is ill-defined and being set to 0.0 due to no predicted samples. Use `zero_division` parameter to control this behavior.\n",
      "  _warn_prf(average, modifier, msg_start, len(result))\n",
      "c:\\Users\\LUISA\\AppData\\Local\\Programs\\Python\\Python312\\Lib\\site-packages\\sklearn\\metrics\\_classification.py:1471: UndefinedMetricWarning: Precision is ill-defined and being set to 0.0 due to no predicted samples. Use `zero_division` parameter to control this behavior.\n",
      "  _warn_prf(average, modifier, msg_start, len(result))\n",
      "c:\\Users\\LUISA\\AppData\\Local\\Programs\\Python\\Python312\\Lib\\site-packages\\sklearn\\metrics\\_classification.py:1471: UndefinedMetricWarning: Precision is ill-defined and being set to 0.0 due to no predicted samples. Use `zero_division` parameter to control this behavior.\n",
      "  _warn_prf(average, modifier, msg_start, len(result))\n",
      "c:\\Users\\LUISA\\AppData\\Local\\Programs\\Python\\Python312\\Lib\\site-packages\\sklearn\\metrics\\_classification.py:1471: UndefinedMetricWarning: Precision is ill-defined and being set to 0.0 due to no predicted samples. Use `zero_division` parameter to control this behavior.\n",
      "  _warn_prf(average, modifier, msg_start, len(result))\n"
     ]
    },
    {
     "name": "stdout",
     "output_type": "stream",
     "text": [
      "Umbral (Punto de corte) 0.99 | Precisión: 0.000, Recall: 0.000\n",
      "Umbral (Punto de corte) 1.00 | Precisión: 0.000, Recall: 0.000\n"
     ]
    },
    {
     "data": {
      "image/png": "[encoded data removed]",
      "text/plain": [
       "<Figure size 640x480 with 1 Axes>"
      ]
     },
     "metadata": {},
     "output_type": "display_data"
    }
   ],
   "source": [
    "# umbrales (Puntos de corte) posibles\n",
    "umbrales = np.linspace(0, 1, 100) \n",
    "\n",
    "precisions = []\n",
    "recalls = []\n",
    "\n",
    "# Probamos cada uno de ellos y calculamos sus métricas\n",
    "for umbral in umbrales:\n",
    "    # y_pred Es un array de predicciones binarias basadas en el umbral.\n",
    "    #Si la probabilidad es mayor o igual al umbral, la predicción se establece en 1 (positivo), de lo contrario, se establece en 0 (negativo).\n",
    "    y_pred = y_probs_positiva >= umbral \n",
    "    precision = precision_score(y_test, y_pred)\n",
    "    recall = recall_score(y_test, y_pred)\n",
    "    precisions.append(precision)\n",
    "    recalls.append(recall)\n",
    "    \n",
    "    print('Umbral (Punto de corte) %.2f | Precisión: %.3f, Recall: %.3f' % (umbral, precision, recall))\n",
    "    \n",
    "plt.plot(umbrales, precisions, label = 'Precisión')\n",
    "plt.plot(umbrales, recalls, label = 'Recall')\n",
    "plt.xlabel('Umbral (Punto de corte)')\n",
    "plt.legend()\n",
    "plt.show()\n"
   ]
  },
  {
   "cell_type": "markdown",
   "id": "90c5a933",
   "metadata": {},
   "source": [
    "#### Como se observa, desde un umbral de 0,89, la precisión es máxima, pero el recall disminuye "
   ]
  },
  {
   "cell_type": "markdown",
   "id": "8ff890c6",
   "metadata": {},
   "source": [
    "### Probar el umbral que maximiza la campaña\n",
    "\n",
    "Me interesa probar el umbral que maximiza la campaña, para identificar a aquellos clientes que debí llamar, pues superaban el umbral de probabilidad, incrementando así aquellos que contratan sin afectar el balance. \n",
    "\n",
    "Así, el modelo permite hacer el filtro de aquellos clientes que superar una probabilidad óptima de contratación y llamar a ellos"
   ]
  },
  {
   "cell_type": "code",
   "execution_count": 44,
   "id": "71c5eddb",
   "metadata": {},
   "outputs": [
    {
     "name": "stdout",
     "output_type": "stream",
     "text": [
      "Umbral: 0.00, Clientes a Contactar: 8536, Clientes contratan 643, Balance: -10530\n",
      "Umbral: 0.01, Clientes a Contactar: 8530, Clientes contratan 643, Balance: -10500\n",
      "Umbral: 0.02, Clientes a Contactar: 8439, Clientes contratan 637, Balance: -10345\n",
      "Umbral: 0.03, Clientes a Contactar: 7064, Clientes contratan 599, Balance: -5370\n",
      "Umbral: 0.04, Clientes a Contactar: 4057, Clientes contratan 503, Balance: 4865\n",
      "Umbral: 0.05, Clientes a Contactar: 1528, Clientes contratan 430, Balance: 13860\n",
      "Umbral: 0.06, Clientes a Contactar: 826, Clientes contratan 405, Balance: 16120\n",
      "Umbral: 0.07, Clientes a Contactar: 774, Clientes contratan 403, Balance: 16280\n",
      "Umbral: 0.08, Clientes a Contactar: 773, Clientes contratan 403, Balance: 16285\n",
      "Umbral: 0.09, Clientes a Contactar: 773, Clientes contratan 403, Balance: 16285\n",
      "Umbral: 0.10, Clientes a Contactar: 773, Clientes contratan 403, Balance: 16285\n",
      "Umbral: 0.11, Clientes a Contactar: 773, Clientes contratan 403, Balance: 16285\n",
      "Umbral: 0.12, Clientes a Contactar: 773, Clientes contratan 403, Balance: 16285\n",
      "Umbral: 0.13, Clientes a Contactar: 773, Clientes contratan 403, Balance: 16285\n",
      "Umbral: 0.14, Clientes a Contactar: 773, Clientes contratan 403, Balance: 16285\n",
      "Umbral: 0.15, Clientes a Contactar: 773, Clientes contratan 403, Balance: 16285\n",
      "Umbral: 0.16, Clientes a Contactar: 773, Clientes contratan 403, Balance: 16285\n",
      "Umbral: 0.17, Clientes a Contactar: 770, Clientes contratan 403, Balance: 16300\n",
      "Umbral: 0.18, Clientes a Contactar: 768, Clientes contratan 403, Balance: 16310\n",
      "Umbral: 0.19, Clientes a Contactar: 764, Clientes contratan 402, Balance: 16280\n",
      "Umbral: 0.20, Clientes a Contactar: 761, Clientes contratan 402, Balance: 16295\n",
      "Umbral: 0.21, Clientes a Contactar: 752, Clientes contratan 399, Balance: 16190\n",
      "Umbral: 0.22, Clientes a Contactar: 747, Clientes contratan 396, Balance: 16065\n",
      "Umbral: 0.23, Clientes a Contactar: 738, Clientes contratan 394, Balance: 16010\n",
      "Umbral: 0.24, Clientes a Contactar: 732, Clientes contratan 394, Balance: 16040\n",
      "Umbral: 0.25, Clientes a Contactar: 723, Clientes contratan 392, Balance: 15985\n",
      "Umbral: 0.26, Clientes a Contactar: 714, Clientes contratan 388, Balance: 15830\n",
      "Umbral: 0.27, Clientes a Contactar: 702, Clientes contratan 381, Balance: 15540\n",
      "Umbral: 0.28, Clientes a Contactar: 690, Clientes contratan 378, Balance: 15450\n",
      "Umbral: 0.29, Clientes a Contactar: 672, Clientes contratan 373, Balance: 15290\n",
      "Umbral: 0.30, Clientes a Contactar: 664, Clientes contratan 372, Balance: 15280\n",
      "Umbral: 0.31, Clientes a Contactar: 663, Clientes contratan 371, Balance: 15235\n",
      "Umbral: 0.32, Clientes a Contactar: 660, Clientes contratan 370, Balance: 15200\n",
      "Umbral: 0.33, Clientes a Contactar: 656, Clientes contratan 367, Balance: 15070\n",
      "Umbral: 0.34, Clientes a Contactar: 651, Clientes contratan 364, Balance: 14945\n",
      "Umbral: 0.35, Clientes a Contactar: 641, Clientes contratan 361, Balance: 14845\n",
      "Umbral: 0.36, Clientes a Contactar: 635, Clientes contratan 360, Balance: 14825\n",
      "Umbral: 0.37, Clientes a Contactar: 623, Clientes contratan 353, Balance: 14535\n",
      "Umbral: 0.38, Clientes a Contactar: 622, Clientes contratan 352, Balance: 14490\n",
      "Umbral: 0.39, Clientes a Contactar: 614, Clientes contratan 349, Balance: 14380\n",
      "Umbral: 0.40, Clientes a Contactar: 611, Clientes contratan 348, Balance: 14345\n",
      "Umbral: 0.41, Clientes a Contactar: 604, Clientes contratan 347, Balance: 14330\n",
      "Umbral: 0.42, Clientes a Contactar: 595, Clientes contratan 341, Balance: 14075\n",
      "Umbral: 0.43, Clientes a Contactar: 590, Clientes contratan 340, Balance: 14050\n",
      "Umbral: 0.44, Clientes a Contactar: 585, Clientes contratan 337, Balance: 13925\n",
      "Umbral: 0.45, Clientes a Contactar: 578, Clientes contratan 335, Balance: 13860\n",
      "Umbral: 0.46, Clientes a Contactar: 572, Clientes contratan 333, Balance: 13790\n",
      "Umbral: 0.47, Clientes a Contactar: 563, Clientes contratan 332, Balance: 13785\n",
      "Umbral: 0.48, Clientes a Contactar: 545, Clientes contratan 324, Balance: 13475\n",
      "Umbral: 0.49, Clientes a Contactar: 532, Clientes contratan 318, Balance: 13240\n",
      "Umbral: 0.51, Clientes a Contactar: 515, Clientes contratan 310, Balance: 12925\n",
      "Umbral: 0.52, Clientes a Contactar: 504, Clientes contratan 309, Balance: 12930\n",
      "Umbral: 0.53, Clientes a Contactar: 488, Clientes contratan 304, Balance: 12760\n",
      "Umbral: 0.54, Clientes a Contactar: 471, Clientes contratan 296, Balance: 12445\n",
      "Umbral: 0.55, Clientes a Contactar: 449, Clientes contratan 290, Balance: 12255\n",
      "Umbral: 0.56, Clientes a Contactar: 425, Clientes contratan 277, Balance: 11725\n",
      "Umbral: 0.57, Clientes a Contactar: 404, Clientes contratan 272, Balance: 11580\n",
      "Umbral: 0.58, Clientes a Contactar: 388, Clientes contratan 266, Balance: 11360\n",
      "Umbral: 0.59, Clientes a Contactar: 373, Clientes contratan 259, Balance: 11085\n",
      "Umbral: 0.60, Clientes a Contactar: 350, Clientes contratan 249, Balance: 10700\n",
      "Umbral: 0.61, Clientes a Contactar: 329, Clientes contratan 236, Balance: 10155\n",
      "Umbral: 0.62, Clientes a Contactar: 320, Clientes contratan 232, Balance: 10000\n",
      "Umbral: 0.63, Clientes a Contactar: 304, Clientes contratan 225, Balance: 9730\n",
      "Umbral: 0.64, Clientes a Contactar: 282, Clientes contratan 212, Balance: 9190\n",
      "Umbral: 0.65, Clientes a Contactar: 269, Clientes contratan 206, Balance: 8955\n",
      "Umbral: 0.66, Clientes a Contactar: 254, Clientes contratan 194, Balance: 8430\n",
      "Umbral: 0.67, Clientes a Contactar: 238, Clientes contratan 183, Balance: 7960\n",
      "Umbral: 0.68, Clientes a Contactar: 225, Clientes contratan 175, Balance: 7625\n",
      "Umbral: 0.69, Clientes a Contactar: 205, Clientes contratan 162, Balance: 7075\n",
      "Umbral: 0.70, Clientes a Contactar: 198, Clientes contratan 156, Balance: 6810\n",
      "Umbral: 0.71, Clientes a Contactar: 190, Clientes contratan 151, Balance: 6600\n",
      "Umbral: 0.72, Clientes a Contactar: 181, Clientes contratan 145, Balance: 6345\n",
      "Umbral: 0.73, Clientes a Contactar: 173, Clientes contratan 139, Balance: 6085\n",
      "Umbral: 0.74, Clientes a Contactar: 170, Clientes contratan 136, Balance: 5950\n",
      "Umbral: 0.75, Clientes a Contactar: 169, Clientes contratan 136, Balance: 5955\n",
      "Umbral: 0.76, Clientes a Contactar: 169, Clientes contratan 136, Balance: 5955\n",
      "Umbral: 0.77, Clientes a Contactar: 168, Clientes contratan 136, Balance: 5960\n",
      "Umbral: 0.78, Clientes a Contactar: 168, Clientes contratan 136, Balance: 5960\n",
      "Umbral: 0.79, Clientes a Contactar: 167, Clientes contratan 135, Balance: 5915\n",
      "Umbral: 0.80, Clientes a Contactar: 162, Clientes contratan 130, Balance: 5690\n",
      "Umbral: 0.81, Clientes a Contactar: 158, Clientes contratan 127, Balance: 5560\n",
      "Umbral: 0.82, Clientes a Contactar: 155, Clientes contratan 124, Balance: 5425\n",
      "Umbral: 0.83, Clientes a Contactar: 147, Clientes contratan 120, Balance: 5265\n",
      "Umbral: 0.84, Clientes a Contactar: 137, Clientes contratan 113, Balance: 4965\n",
      "Umbral: 0.85, Clientes a Contactar: 120, Clientes contratan 99, Balance: 4350\n",
      "Umbral: 0.86, Clientes a Contactar: 101, Clientes contratan 82, Balance: 3595\n",
      "Umbral: 0.87, Clientes a Contactar: 66, Clientes contratan 59, Balance: 2620\n",
      "Umbral: 0.88, Clientes a Contactar: 45, Clientes contratan 40, Balance: 1775\n",
      "Umbral: 0.89, Clientes a Contactar: 27, Clientes contratan 26, Balance: 1165\n",
      "Umbral: 0.90, Clientes a Contactar: 13, Clientes contratan 13, Balance: 585\n",
      "Umbral: 0.91, Clientes a Contactar: 5, Clientes contratan 5, Balance: 225\n",
      "Umbral: 0.92, Clientes a Contactar: 2, Clientes contratan 2, Balance: 90\n",
      "Umbral: 0.93, Clientes a Contactar: 0, Clientes contratan 0, Balance: 0\n",
      "Umbral: 0.94, Clientes a Contactar: 0, Clientes contratan 0, Balance: 0\n",
      "Umbral: 0.95, Clientes a Contactar: 0, Clientes contratan 0, Balance: 0\n",
      "Umbral: 0.96, Clientes a Contactar: 0, Clientes contratan 0, Balance: 0\n",
      "Umbral: 0.97, Clientes a Contactar: 0, Clientes contratan 0, Balance: 0\n",
      "Umbral: 0.98, Clientes a Contactar: 0, Clientes contratan 0, Balance: 0\n",
      "Umbral: 0.99, Clientes a Contactar: 0, Clientes contratan 0, Balance: 0\n",
      "Umbral: 1.00, Clientes a Contactar: 0, Clientes contratan 0, Balance: 0\n",
      "Umbral óptimo: 0.18181818181818182, Balance óptimo: 16310\n"
     ]
    }
   ],
   "source": [
    "# defino la función de cálculo\n",
    "\n",
    "def calcular_balance(clientes_contratan, clientes_contactados): # dos argumentos: clientes_contratan y clientes_contactados.\n",
    "    beneficio_por_contratacion = 50 #beneficio obtenido por cada cliente que contrata el producto (\n",
    "    costo_por_llamada = 5 #costo de realizar una llamada\n",
    "    balance = beneficio_por_contratacion * clientes_contratan - costo_por_llamada * clientes_contactados #calculo del balance\n",
    "    return balance\n",
    "\n",
    "# calculo el balance para cada umbral \n",
    "\n",
    "balances = [] # inicializo la lista de balances para que allí se guarde cada iteración\n",
    "clientes_a_contactar_por_umbral = [] # inicializo los clientes a contactar por umbral\n",
    "clientes_contratan_por_umbral = []\n",
    "for umbral in umbrales: #bucle sobra cada umbral \n",
    "    y_pred = y_probs_positiva >= umbral #crea un array de predicciones binarias basado en si la probabilidad es mayor o igual al umbral actual\n",
    "    clientes_contactados = np.sum(y_pred) #cuenta cuántos clientes serían contactados (predicciones positivas).\n",
    "    clientes_contratan = np.sum(y_pred & y_test) #cuenta cuántos de los contactados realmente contratan (verdaderos positivos).\n",
    "    balance = calcular_balance(clientes_contratan, clientes_contactados)\n",
    "    balances.append(balance) #Se calcula el balance para el umbral actual y se añade a la lista balances.\n",
    "    clientes_a_contactar_por_umbral.append(clientes_contactados)  \n",
    "    clientes_contratan_por_umbral.append(clientes_contratan) \n",
    "    \n",
    "    print(f\"Umbral: {umbral:.2f}, Clientes a Contactar: {clientes_contactados}, Clientes contratan {clientes_contratan}, Balance: {balance}\")\n",
    "    \n",
    "# encuentro el mejor umbral\n",
    "    \n",
    "indice_optimo = np.argmax(balances) #devuelve el índice del mayor valor en la lista balances, es decir, el balance más alto.\n",
    "umbral_optimo = umbrales[indice_optimo] # obtiene el valor del umbral correspondiente al mejor balance.\n",
    "balance_optimo = balances[indice_optimo] # obtiene el valor del balance óptimo.\n",
    "\n",
    "print(f\"Umbral óptimo: {umbral_optimo}, Balance óptimo: {balance_optimo}\")\n",
    "\n"
   ]
  },
  {
   "cell_type": "code",
   "execution_count": 45,
   "id": "2aabb2dc",
   "metadata": {},
   "outputs": [
    {
     "data": {
      "image/png": "[encoded data removed]",
      "text/plain": [
       "<Figure size 1000x600 with 1 Axes>"
      ]
     },
     "metadata": {},
     "output_type": "display_data"
    }
   ],
   "source": [
    "# visualización gráfica del balance para cada umbral\n",
    "\n",
    "plt.figure(figsize=(10, 6))\n",
    "plt.plot(umbrales, balances, label='Balance')\n",
    "plt.xlabel('Umbral')\n",
    "plt.ylabel('Balance Económico')\n",
    "plt.title('Balance Económico en Función del Umbral')\n",
    "plt.axvline(x=umbrales[np.argmax(balances)], color='r', linestyle='--', label='Umbral Óptimo')\n",
    "plt.legend()\n",
    "plt.show()"
   ]
  },
  {
   "cell_type": "code",
   "execution_count": 46,
   "id": "998542f4",
   "metadata": {},
   "outputs": [
    {
     "data": {
      "image/png": "[encoded data removed]",
      "text/plain": [
       "<Figure size 1000x600 with 1 Axes>"
      ]
     },
     "metadata": {},
     "output_type": "display_data"
    }
   ],
   "source": [
    "plt.figure(figsize=(10, 6))\n",
    "plt.plot(umbrales, clientes_a_contactar_por_umbral, label='Número de Clientes a Contactar')\n",
    "plt.xlabel('Umbral')\n",
    "plt.ylabel('Número de Clientes a Contactar')\n",
    "plt.title('Número de Clientes a Contactar en Función del Umbral')\n",
    "plt.legend()\n",
    "plt.show()"
   ]
  },
  {
   "cell_type": "markdown",
   "id": "5c9a6ad1",
   "metadata": {},
   "source": [
    "### Pregunta 5. \n",
    "\n",
    "Como se observa, el mejor umbral no resulta ser el umbral que permite obtener mayor precisión. El mejor umbral resulta ser el que encuentra un balance entre la precisión y el recall, siendo de 0.18. Así, el modelo nos indica que la campaña hubiera llamado 768 clentes de los cuales 403 hubieran contratado, obteniendo un balance máximo de 16310 euros. \n",
    "\n",
    "Resumen de resultados: Umbral: 0.18, Clientes a Contactar: 768, Clientes contratan 403, Balance: 16310"
   ]
  },
  {
   "cell_type": "markdown",
   "id": "7c20387b",
   "metadata": {},
   "source": [
    "### PROBAR CON OTROS ALGORITMOS "
   ]
  },
  {
   "cell_type": "markdown",
   "id": "d5c0bdbd",
   "metadata": {},
   "source": [
    "#### Árbol de decisión "
   ]
  },
  {
   "cell_type": "code",
   "execution_count": 47,
   "id": "5d468bfa",
   "metadata": {},
   "outputs": [
    {
     "name": "stdout",
     "output_type": "stream",
     "text": [
      "Precision: 0.876\n",
      "Recall 0.876\n",
      "[[7214  679]\n",
      " [ 380  263]]\n"
     ]
    }
   ],
   "source": [
    "# importo\n",
    "\n",
    "from sklearn.tree import DecisionTreeClassifier, DecisionTreeRegressor\n",
    "# Los inicialiamos con sus parámetros por defecto (salvo la semilla)\n",
    "tree_class = DecisionTreeClassifier(random_state = 42)\n",
    "\n",
    "\n",
    "# Los entrenamos...\n",
    "\n",
    "tree_class.fit(x_train_processed_df, y_train)\n",
    "\n",
    "# Y los evaluamos en el conjunto de test\n",
    "\n",
    "preds_tree = tree_class.predict(x_test_processed_df)\n",
    "\n",
    "precision = precision_score(y_test, preds_tree, average = 'micro')\n",
    "recall = recall_score(y_test, preds_tree, average = 'micro')\n",
    "cm = confusion_matrix(y_test, preds_tree)\n",
    "\n",
    "print('Precision: %.3f' % precision)\n",
    "print('Recall %.3f' % recall)\n",
    "print(cm)"
   ]
  },
  {
   "cell_type": "code",
   "execution_count": 48,
   "id": "52b4a52a",
   "metadata": {},
   "outputs": [
    {
     "name": "stdout",
     "output_type": "stream",
     "text": [
      "Accuracy en train:  0.9928335170893055\n",
      "Accuracy en test:  0.8759372071227741\n"
     ]
    }
   ],
   "source": [
    "print('Accuracy en train: ', tree_class.score(x_train_processed_df, y_train))\n",
    "print('Accuracy en test: ', tree_class.score(x_test_processed_df, y_test))"
   ]
  },
  {
   "cell_type": "code",
   "execution_count": 49,
   "id": "f21abea3",
   "metadata": {},
   "outputs": [
    {
     "name": "stdout",
     "output_type": "stream",
     "text": [
      "[0 0 0 0 0]\n",
      "[[1. 0.]\n",
      " [1. 0.]\n",
      " [1. 0.]\n",
      " [1. 0.]\n",
      " [1. 0.]]\n"
     ]
    }
   ],
   "source": [
    "preds_tree = tree_class.predict(x_test_processed_df) # predicción del conjunto de validación\n",
    "y_probs_tree = tree_class.predict_proba(x_test_processed_df) # probabilidades de contratar o no, en el conjunto de test\n",
    "\n",
    "print(preds[:5])\n",
    "print(y_probs_tree[:5])"
   ]
  },
  {
   "cell_type": "code",
   "execution_count": 50,
   "id": "ff9557f1",
   "metadata": {},
   "outputs": [],
   "source": [
    "y_probs_positiva_tree = y_probs_tree[:, 1]"
   ]
  },
  {
   "cell_type": "code",
   "execution_count": 51,
   "id": "31a6dbf0",
   "metadata": {},
   "outputs": [
    {
     "data": {
      "image/png": "[encoded data removed]",
      "text/plain": [
       "<Figure size 800x800 with 1 Axes>"
      ]
     },
     "metadata": {},
     "output_type": "display_data"
    }
   ],
   "source": [
    "from sklearn.metrics import roc_curve, auc\n",
    "import matplotlib.pyplot as plt\n",
    "\n",
    "\n",
    "# Calcular la tasa de falsos positivos, la tasa de verdaderos positivos y los umbrales\n",
    "fpr, tpr, thresholds = roc_curve(y_test, y_probs_positiva_tree) ##fpr: false positive rates, tpr: true positive rate, thresolds: umbrales\n",
    "\n",
    "# Calcular el área bajo la curva ROC (AUC-ROC)\n",
    "roc_auc = auc(fpr, tpr)\n",
    "\n",
    "# Trazar la curva ROC\n",
    "plt.figure(figsize=(8, 8))\n",
    "plt.plot(fpr, tpr, color='darkorange', lw=2, label='Curva ROC (AUC = {:.2f})'.format(roc_auc))\n",
    "plt.plot([0, 1], [0, 1], color='navy', lw=2, linestyle='--', label='Línea referencia para modelo aleatorio')\n",
    "plt.xlabel(\"Ratio falsos positivos (FPR)\")\n",
    "plt.ylabel(\"Ratio verdaderos positivos (TPR)\")\n",
    "plt.title('Curva ROC')\n",
    "plt.legend(loc='lower right')\n",
    "plt.show()"
   ]
  },
  {
   "cell_type": "markdown",
   "id": "9eb85367",
   "metadata": {},
   "source": [
    "Como se osberva, el AUC es mucho más bajo que en el modelo de regreso, al igual que la precisión y el recall, aunque la tasa de acierto si es mayor"
   ]
  },
  {
   "cell_type": "markdown",
   "id": "205df2dd",
   "metadata": {},
   "source": [
    "### K vecinos"
   ]
  },
  {
   "cell_type": "code",
   "execution_count": 54,
   "id": "f2d4f194",
   "metadata": {},
   "outputs": [
    {
     "name": "stdout",
     "output_type": "stream",
     "text": [
      "Precision: 0.934\n",
      "Recall 0.934\n",
      "[[7836   57]\n",
      " [ 510  133]]\n"
     ]
    }
   ],
   "source": [
    "from sklearn.neighbors import KNeighborsClassifier\n",
    "\n",
    "# Por defecto, k = 5\n",
    "knn = KNeighborsClassifier()\n",
    "\n",
    "knn.fit(x_train_processed_df, y_train)\n",
    "\n",
    "preds_knn = knn.predict(x_test_processed_df)\n",
    "\n",
    "precision = precision_score(y_test, preds_knn, average = 'micro')\n",
    "recall = recall_score(y_test, preds_knn, average = 'micro')\n",
    "cm = confusion_matrix(y_test, preds_knn)\n",
    "\n",
    "print('Precision: %.3f' % precision)\n",
    "print('Recall %.3f' % recall)\n",
    "print(cm)"
   ]
  },
  {
   "cell_type": "code",
   "execution_count": 55,
   "id": "9a389ead",
   "metadata": {},
   "outputs": [
    {
     "name": "stdout",
     "output_type": "stream",
     "text": [
      "Accuracy en train:  0.9018743109151047\n",
      "Accuracy en test:  0.9335754451733833\n"
     ]
    }
   ],
   "source": [
    "print('Accuracy en train: ', knn.score(x_train_processed_df, y_train))\n",
    "print('Accuracy en test: ', knn.score(x_test_processed_df, y_test))"
   ]
  },
  {
   "cell_type": "code",
   "execution_count": 56,
   "id": "3ca00f3f",
   "metadata": {},
   "outputs": [
    {
     "name": "stdout",
     "output_type": "stream",
     "text": [
      "[0 0 0 0 0]\n",
      "[[0.8 0.2]\n",
      " [0.8 0.2]\n",
      " [1.  0. ]\n",
      " [1.  0. ]\n",
      " [0.8 0.2]]\n"
     ]
    }
   ],
   "source": [
    "preds_knn = knn.predict(x_test_processed_df) # predicción del conjunto de validación\n",
    "y_probs_knn = knn.predict_proba(x_test_processed_df) # probabilidades de contratar o no, en el conjunto de test\n",
    "\n",
    "print(preds_knn[:5])\n",
    "print(y_probs_knn[:5])"
   ]
  },
  {
   "cell_type": "code",
   "execution_count": 57,
   "id": "67fae7cd",
   "metadata": {},
   "outputs": [],
   "source": [
    "y_probs_positiva_knn = y_probs_knn[:, 1]"
   ]
  },
  {
   "cell_type": "code",
   "execution_count": 58,
   "id": "0ba91591",
   "metadata": {},
   "outputs": [
    {
     "data": {
      "image/png": "[encoded data removed]",
      "text/plain": [
       "<Figure size 800x800 with 1 Axes>"
      ]
     },
     "metadata": {},
     "output_type": "display_data"
    }
   ],
   "source": [
    "from sklearn.metrics import roc_curve, auc\n",
    "import matplotlib.pyplot as plt\n",
    "\n",
    "\n",
    "# Calcular la tasa de falsos positivos, la tasa de verdaderos positivos y los umbrales\n",
    "fpr, tpr, thresholds = roc_curve(y_test, y_probs_positiva_knn) ##fpr: false positive rates, tpr: true positive rate, thresolds: umbrales\n",
    "\n",
    "# Calcular el área bajo la curva ROC (AUC-ROC)\n",
    "roc_auc = auc(fpr, tpr)\n",
    "\n",
    "# Trazar la curva ROC\n",
    "plt.figure(figsize=(8, 8))\n",
    "plt.plot(fpr, tpr, color='darkorange', lw=2, label='Curva ROC (AUC = {:.2f})'.format(roc_auc))\n",
    "plt.plot([0, 1], [0, 1], color='navy', lw=2, linestyle='--', label='Línea referencia para modelo aleatorio')\n",
    "plt.xlabel(\"Ratio falsos positivos (FPR)\")\n",
    "plt.ylabel(\"Ratio verdaderos positivos (TPR)\")\n",
    "plt.title('Curva ROC')\n",
    "plt.legend(loc='lower right')\n",
    "plt.show()"
   ]
  },
  {
   "cell_type": "markdown",
   "id": "032147db",
   "metadata": {},
   "source": [
    "La curva AUC es de 0.70, sigue siendo menor que la lograda por la regresión logística. igual me aventuro a ver qué ocurre con los puntos de corte (umbrales de probabilidad) y el balance óptimo con este modelo. Efectivamente el modelo no predice un balance tan bueno como lo hizo el modelo de regresión logística"
   ]
  },
  {
   "cell_type": "code",
   "execution_count": 59,
   "id": "82632c2c",
   "metadata": {},
   "outputs": [
    {
     "name": "stdout",
     "output_type": "stream",
     "text": [
      "Umbral (Punto de corte) 0.00 | Precisión: 0.075, Recall: 1.000\n",
      "Umbral (Punto de corte) 0.01 | Precisión: 0.165, Recall: 0.585\n",
      "Umbral (Punto de corte) 0.02 | Precisión: 0.165, Recall: 0.585\n",
      "Umbral (Punto de corte) 0.03 | Precisión: 0.165, Recall: 0.585\n",
      "Umbral (Punto de corte) 0.04 | Precisión: 0.165, Recall: 0.585\n",
      "Umbral (Punto de corte) 0.05 | Precisión: 0.165, Recall: 0.585\n",
      "Umbral (Punto de corte) 0.06 | Precisión: 0.165, Recall: 0.585\n",
      "Umbral (Punto de corte) 0.07 | Precisión: 0.165, Recall: 0.585\n",
      "Umbral (Punto de corte) 0.08 | Precisión: 0.165, Recall: 0.585\n",
      "Umbral (Punto de corte) 0.09 | Precisión: 0.165, Recall: 0.585\n",
      "Umbral (Punto de corte) 0.10 | Precisión: 0.165, Recall: 0.585\n",
      "Umbral (Punto de corte) 0.11 | Precisión: 0.165, Recall: 0.585\n",
      "Umbral (Punto de corte) 0.12 | Precisión: 0.165, Recall: 0.585\n",
      "Umbral (Punto de corte) 0.13 | Precisión: 0.165, Recall: 0.585\n",
      "Umbral (Punto de corte) 0.14 | Precisión: 0.165, Recall: 0.585\n",
      "Umbral (Punto de corte) 0.15 | Precisión: 0.165, Recall: 0.585\n",
      "Umbral (Punto de corte) 0.16 | Precisión: 0.165, Recall: 0.585\n",
      "Umbral (Punto de corte) 0.17 | Precisión: 0.165, Recall: 0.585\n",
      "Umbral (Punto de corte) 0.18 | Precisión: 0.165, Recall: 0.585\n",
      "Umbral (Punto de corte) 0.19 | Precisión: 0.165, Recall: 0.585\n",
      "Umbral (Punto de corte) 0.20 | Precisión: 0.419, Recall: 0.331\n",
      "Umbral (Punto de corte) 0.21 | Precisión: 0.419, Recall: 0.331\n",
      "Umbral (Punto de corte) 0.22 | Precisión: 0.419, Recall: 0.331\n",
      "Umbral (Punto de corte) 0.23 | Precisión: 0.419, Recall: 0.331\n",
      "Umbral (Punto de corte) 0.24 | Precisión: 0.419, Recall: 0.331\n",
      "Umbral (Punto de corte) 0.25 | Precisión: 0.419, Recall: 0.331\n",
      "Umbral (Punto de corte) 0.26 | Precisión: 0.419, Recall: 0.331\n",
      "Umbral (Punto de corte) 0.27 | Precisión: 0.419, Recall: 0.331\n",
      "Umbral (Punto de corte) 0.28 | Precisión: 0.419, Recall: 0.331\n",
      "Umbral (Punto de corte) 0.29 | Precisión: 0.419, Recall: 0.331\n",
      "Umbral (Punto de corte) 0.30 | Precisión: 0.419, Recall: 0.331\n",
      "Umbral (Punto de corte) 0.31 | Precisión: 0.419, Recall: 0.331\n",
      "Umbral (Punto de corte) 0.32 | Precisión: 0.419, Recall: 0.331\n",
      "Umbral (Punto de corte) 0.33 | Precisión: 0.419, Recall: 0.331\n",
      "Umbral (Punto de corte) 0.34 | Precisión: 0.419, Recall: 0.331\n",
      "Umbral (Punto de corte) 0.35 | Precisión: 0.419, Recall: 0.331\n",
      "Umbral (Punto de corte) 0.36 | Precisión: 0.419, Recall: 0.331\n",
      "Umbral (Punto de corte) 0.37 | Precisión: 0.419, Recall: 0.331\n",
      "Umbral (Punto de corte) 0.38 | Precisión: 0.419, Recall: 0.331\n",
      "Umbral (Punto de corte) 0.39 | Precisión: 0.419, Recall: 0.331\n",
      "Umbral (Punto de corte) 0.40 | Precisión: 0.700, Recall: 0.207\n",
      "Umbral (Punto de corte) 0.41 | Precisión: 0.700, Recall: 0.207\n",
      "Umbral (Punto de corte) 0.42 | Precisión: 0.700, Recall: 0.207\n",
      "Umbral (Punto de corte) 0.43 | Precisión: 0.700, Recall: 0.207\n",
      "Umbral (Punto de corte) 0.44 | Precisión: 0.700, Recall: 0.207\n",
      "Umbral (Punto de corte) 0.45 | Precisión: 0.700, Recall: 0.207\n",
      "Umbral (Punto de corte) 0.46 | Precisión: 0.700, Recall: 0.207\n",
      "Umbral (Punto de corte) 0.47 | Precisión: 0.700, Recall: 0.207\n",
      "Umbral (Punto de corte) 0.48 | Precisión: 0.700, Recall: 0.207\n",
      "Umbral (Punto de corte) 0.49 | Precisión: 0.700, Recall: 0.207\n",
      "Umbral (Punto de corte) 0.51 | Precisión: 0.700, Recall: 0.207\n",
      "Umbral (Punto de corte) 0.52 | Precisión: 0.700, Recall: 0.207\n",
      "Umbral (Punto de corte) 0.53 | Precisión: 0.700, Recall: 0.207\n",
      "Umbral (Punto de corte) 0.54 | Precisión: 0.700, Recall: 0.207\n",
      "Umbral (Punto de corte) 0.55 | Precisión: 0.700, Recall: 0.207\n",
      "Umbral (Punto de corte) 0.56 | Precisión: 0.700, Recall: 0.207\n",
      "Umbral (Punto de corte) 0.57 | Precisión: 0.700, Recall: 0.207\n",
      "Umbral (Punto de corte) 0.58 | Precisión: 0.700, Recall: 0.207\n",
      "Umbral (Punto de corte) 0.59 | Precisión: 0.700, Recall: 0.207\n",
      "Umbral (Punto de corte) 0.60 | Precisión: 0.700, Recall: 0.207\n",
      "Umbral (Punto de corte) 0.61 | Precisión: 0.720, Recall: 0.084\n",
      "Umbral (Punto de corte) 0.62 | Precisión: 0.720, Recall: 0.084\n",
      "Umbral (Punto de corte) 0.63 | Precisión: 0.720, Recall: 0.084\n",
      "Umbral (Punto de corte) 0.64 | Precisión: 0.720, Recall: 0.084\n",
      "Umbral (Punto de corte) 0.65 | Precisión: 0.720, Recall: 0.084\n",
      "Umbral (Punto de corte) 0.66 | Precisión: 0.720, Recall: 0.084\n",
      "Umbral (Punto de corte) 0.67 | Precisión: 0.720, Recall: 0.084\n",
      "Umbral (Punto de corte) 0.68 | Precisión: 0.720, Recall: 0.084\n",
      "Umbral (Punto de corte) 0.69 | Precisión: 0.720, Recall: 0.084\n",
      "Umbral (Punto de corte) 0.70 | Precisión: 0.720, Recall: 0.084\n",
      "Umbral (Punto de corte) 0.71 | Precisión: 0.720, Recall: 0.084\n",
      "Umbral (Punto de corte) 0.72 | Precisión: 0.720, Recall: 0.084\n",
      "Umbral (Punto de corte) 0.73 | Precisión: 0.720, Recall: 0.084\n",
      "Umbral (Punto de corte) 0.74 | Precisión: 0.720, Recall: 0.084\n",
      "Umbral (Punto de corte) 0.75 | Precisión: 0.720, Recall: 0.084\n",
      "Umbral (Punto de corte) 0.76 | Precisión: 0.720, Recall: 0.084\n",
      "Umbral (Punto de corte) 0.77 | Precisión: 0.720, Recall: 0.084\n",
      "Umbral (Punto de corte) 0.78 | Precisión: 0.720, Recall: 0.084\n",
      "Umbral (Punto de corte) 0.79 | Precisión: 0.720, Recall: 0.084\n",
      "Umbral (Punto de corte) 0.80 | Precisión: 0.720, Recall: 0.084\n",
      "Umbral (Punto de corte) 0.81 | Precisión: 0.611, Recall: 0.017\n",
      "Umbral (Punto de corte) 0.82 | Precisión: 0.611, Recall: 0.017\n",
      "Umbral (Punto de corte) 0.83 | Precisión: 0.611, Recall: 0.017\n",
      "Umbral (Punto de corte) 0.84 | Precisión: 0.611, Recall: 0.017\n",
      "Umbral (Punto de corte) 0.85 | Precisión: 0.611, Recall: 0.017\n",
      "Umbral (Punto de corte) 0.86 | Precisión: 0.611, Recall: 0.017\n",
      "Umbral (Punto de corte) 0.87 | Precisión: 0.611, Recall: 0.017\n",
      "Umbral (Punto de corte) 0.88 | Precisión: 0.611, Recall: 0.017\n",
      "Umbral (Punto de corte) 0.89 | Precisión: 0.611, Recall: 0.017\n",
      "Umbral (Punto de corte) 0.90 | Precisión: 0.611, Recall: 0.017\n",
      "Umbral (Punto de corte) 0.91 | Precisión: 0.611, Recall: 0.017\n",
      "Umbral (Punto de corte) 0.92 | Precisión: 0.611, Recall: 0.017\n",
      "Umbral (Punto de corte) 0.93 | Precisión: 0.611, Recall: 0.017\n",
      "Umbral (Punto de corte) 0.94 | Precisión: 0.611, Recall: 0.017\n",
      "Umbral (Punto de corte) 0.95 | Precisión: 0.611, Recall: 0.017\n",
      "Umbral (Punto de corte) 0.96 | Precisión: 0.611, Recall: 0.017\n",
      "Umbral (Punto de corte) 0.97 | Precisión: 0.611, Recall: 0.017\n",
      "Umbral (Punto de corte) 0.98 | Precisión: 0.611, Recall: 0.017\n",
      "Umbral (Punto de corte) 0.99 | Precisión: 0.611, Recall: 0.017\n",
      "Umbral (Punto de corte) 1.00 | Precisión: 0.611, Recall: 0.017\n"
     ]
    },
    {
     "data": {
      "image/png": "[encoded data removed]",
      "text/plain": [
       "<Figure size 640x480 with 1 Axes>"
      ]
     },
     "metadata": {},
     "output_type": "display_data"
    }
   ],
   "source": [
    "# umbrales (Puntos de corte) posibles\n",
    "umbrales = np.linspace(0, 1, 100) \n",
    "\n",
    "precisions = []\n",
    "recalls = []\n",
    "\n",
    "# Probamos cada uno de ellos y calculamos sus métricas\n",
    "for umbral in umbrales:\n",
    "    # y_pred Es un array de predicciones binarias basadas en el umbral.\n",
    "    #Si la probabilidad es mayor o igual al umbral, la predicción se establece en 1 (positivo), de lo contrario, se establece en 0 (negativo).\n",
    "    y_pred_knn = y_probs_positiva_knn >= umbral \n",
    "    precision = precision_score(y_test, y_pred_knn)\n",
    "    recall = recall_score(y_test, y_pred_knn)\n",
    "    precisions.append(precision)\n",
    "    recalls.append(recall)\n",
    "    \n",
    "    print('Umbral (Punto de corte) %.2f | Precisión: %.3f, Recall: %.3f' % (umbral, precision, recall))\n",
    "    \n",
    "plt.plot(umbrales, precisions, label = 'Precisión')\n",
    "plt.plot(umbrales, recalls, label = 'Recall')\n",
    "plt.xlabel('Umbral (Punto de corte)')\n",
    "plt.legend()\n",
    "plt.show()"
   ]
  },
  {
   "cell_type": "code",
   "execution_count": 62,
   "id": "f6387f5c",
   "metadata": {},
   "outputs": [
    {
     "name": "stdout",
     "output_type": "stream",
     "text": [
      "Umbral: 0.00, Clientes a Contactar: 8536, Clientes contratan 643, Balance: -10530\n",
      "Umbral: 0.01, Clientes a Contactar: 2276, Clientes contratan 376, Balance: 7420\n",
      "Umbral: 0.02, Clientes a Contactar: 2276, Clientes contratan 376, Balance: 7420\n",
      "Umbral: 0.03, Clientes a Contactar: 2276, Clientes contratan 376, Balance: 7420\n",
      "Umbral: 0.04, Clientes a Contactar: 2276, Clientes contratan 376, Balance: 7420\n",
      "Umbral: 0.05, Clientes a Contactar: 2276, Clientes contratan 376, Balance: 7420\n",
      "Umbral: 0.06, Clientes a Contactar: 2276, Clientes contratan 376, Balance: 7420\n",
      "Umbral: 0.07, Clientes a Contactar: 2276, Clientes contratan 376, Balance: 7420\n",
      "Umbral: 0.08, Clientes a Contactar: 2276, Clientes contratan 376, Balance: 7420\n",
      "Umbral: 0.09, Clientes a Contactar: 2276, Clientes contratan 376, Balance: 7420\n",
      "Umbral: 0.10, Clientes a Contactar: 2276, Clientes contratan 376, Balance: 7420\n",
      "Umbral: 0.11, Clientes a Contactar: 2276, Clientes contratan 376, Balance: 7420\n",
      "Umbral: 0.12, Clientes a Contactar: 2276, Clientes contratan 376, Balance: 7420\n",
      "Umbral: 0.13, Clientes a Contactar: 2276, Clientes contratan 376, Balance: 7420\n",
      "Umbral: 0.14, Clientes a Contactar: 2276, Clientes contratan 376, Balance: 7420\n",
      "Umbral: 0.15, Clientes a Contactar: 2276, Clientes contratan 376, Balance: 7420\n",
      "Umbral: 0.16, Clientes a Contactar: 2276, Clientes contratan 376, Balance: 7420\n",
      "Umbral: 0.17, Clientes a Contactar: 2276, Clientes contratan 376, Balance: 7420\n",
      "Umbral: 0.18, Clientes a Contactar: 2276, Clientes contratan 376, Balance: 7420\n",
      "Umbral: 0.19, Clientes a Contactar: 2276, Clientes contratan 376, Balance: 7420\n",
      "Umbral: 0.20, Clientes a Contactar: 508, Clientes contratan 213, Balance: 8110\n",
      "Umbral: 0.21, Clientes a Contactar: 508, Clientes contratan 213, Balance: 8110\n",
      "Umbral: 0.22, Clientes a Contactar: 508, Clientes contratan 213, Balance: 8110\n",
      "Umbral: 0.23, Clientes a Contactar: 508, Clientes contratan 213, Balance: 8110\n",
      "Umbral: 0.24, Clientes a Contactar: 508, Clientes contratan 213, Balance: 8110\n",
      "Umbral: 0.25, Clientes a Contactar: 508, Clientes contratan 213, Balance: 8110\n",
      "Umbral: 0.26, Clientes a Contactar: 508, Clientes contratan 213, Balance: 8110\n",
      "Umbral: 0.27, Clientes a Contactar: 508, Clientes contratan 213, Balance: 8110\n",
      "Umbral: 0.28, Clientes a Contactar: 508, Clientes contratan 213, Balance: 8110\n",
      "Umbral: 0.29, Clientes a Contactar: 508, Clientes contratan 213, Balance: 8110\n",
      "Umbral: 0.30, Clientes a Contactar: 508, Clientes contratan 213, Balance: 8110\n",
      "Umbral: 0.31, Clientes a Contactar: 508, Clientes contratan 213, Balance: 8110\n",
      "Umbral: 0.32, Clientes a Contactar: 508, Clientes contratan 213, Balance: 8110\n",
      "Umbral: 0.33, Clientes a Contactar: 508, Clientes contratan 213, Balance: 8110\n",
      "Umbral: 0.34, Clientes a Contactar: 508, Clientes contratan 213, Balance: 8110\n",
      "Umbral: 0.35, Clientes a Contactar: 508, Clientes contratan 213, Balance: 8110\n",
      "Umbral: 0.36, Clientes a Contactar: 508, Clientes contratan 213, Balance: 8110\n",
      "Umbral: 0.37, Clientes a Contactar: 508, Clientes contratan 213, Balance: 8110\n",
      "Umbral: 0.38, Clientes a Contactar: 508, Clientes contratan 213, Balance: 8110\n",
      "Umbral: 0.39, Clientes a Contactar: 508, Clientes contratan 213, Balance: 8110\n",
      "Umbral: 0.40, Clientes a Contactar: 190, Clientes contratan 133, Balance: 5700\n",
      "Umbral: 0.41, Clientes a Contactar: 190, Clientes contratan 133, Balance: 5700\n",
      "Umbral: 0.42, Clientes a Contactar: 190, Clientes contratan 133, Balance: 5700\n",
      "Umbral: 0.43, Clientes a Contactar: 190, Clientes contratan 133, Balance: 5700\n",
      "Umbral: 0.44, Clientes a Contactar: 190, Clientes contratan 133, Balance: 5700\n",
      "Umbral: 0.45, Clientes a Contactar: 190, Clientes contratan 133, Balance: 5700\n",
      "Umbral: 0.46, Clientes a Contactar: 190, Clientes contratan 133, Balance: 5700\n",
      "Umbral: 0.47, Clientes a Contactar: 190, Clientes contratan 133, Balance: 5700\n",
      "Umbral: 0.48, Clientes a Contactar: 190, Clientes contratan 133, Balance: 5700\n",
      "Umbral: 0.49, Clientes a Contactar: 190, Clientes contratan 133, Balance: 5700\n",
      "Umbral: 0.51, Clientes a Contactar: 190, Clientes contratan 133, Balance: 5700\n",
      "Umbral: 0.52, Clientes a Contactar: 190, Clientes contratan 133, Balance: 5700\n",
      "Umbral: 0.53, Clientes a Contactar: 190, Clientes contratan 133, Balance: 5700\n",
      "Umbral: 0.54, Clientes a Contactar: 190, Clientes contratan 133, Balance: 5700\n",
      "Umbral: 0.55, Clientes a Contactar: 190, Clientes contratan 133, Balance: 5700\n",
      "Umbral: 0.56, Clientes a Contactar: 190, Clientes contratan 133, Balance: 5700\n",
      "Umbral: 0.57, Clientes a Contactar: 190, Clientes contratan 133, Balance: 5700\n",
      "Umbral: 0.58, Clientes a Contactar: 190, Clientes contratan 133, Balance: 5700\n",
      "Umbral: 0.59, Clientes a Contactar: 190, Clientes contratan 133, Balance: 5700\n",
      "Umbral: 0.60, Clientes a Contactar: 190, Clientes contratan 133, Balance: 5700\n",
      "Umbral: 0.61, Clientes a Contactar: 75, Clientes contratan 54, Balance: 2325\n",
      "Umbral: 0.62, Clientes a Contactar: 75, Clientes contratan 54, Balance: 2325\n",
      "Umbral: 0.63, Clientes a Contactar: 75, Clientes contratan 54, Balance: 2325\n",
      "Umbral: 0.64, Clientes a Contactar: 75, Clientes contratan 54, Balance: 2325\n",
      "Umbral: 0.65, Clientes a Contactar: 75, Clientes contratan 54, Balance: 2325\n",
      "Umbral: 0.66, Clientes a Contactar: 75, Clientes contratan 54, Balance: 2325\n",
      "Umbral: 0.67, Clientes a Contactar: 75, Clientes contratan 54, Balance: 2325\n",
      "Umbral: 0.68, Clientes a Contactar: 75, Clientes contratan 54, Balance: 2325\n",
      "Umbral: 0.69, Clientes a Contactar: 75, Clientes contratan 54, Balance: 2325\n",
      "Umbral: 0.70, Clientes a Contactar: 75, Clientes contratan 54, Balance: 2325\n",
      "Umbral: 0.71, Clientes a Contactar: 75, Clientes contratan 54, Balance: 2325\n",
      "Umbral: 0.72, Clientes a Contactar: 75, Clientes contratan 54, Balance: 2325\n",
      "Umbral: 0.73, Clientes a Contactar: 75, Clientes contratan 54, Balance: 2325\n",
      "Umbral: 0.74, Clientes a Contactar: 75, Clientes contratan 54, Balance: 2325\n",
      "Umbral: 0.75, Clientes a Contactar: 75, Clientes contratan 54, Balance: 2325\n",
      "Umbral: 0.76, Clientes a Contactar: 75, Clientes contratan 54, Balance: 2325\n",
      "Umbral: 0.77, Clientes a Contactar: 75, Clientes contratan 54, Balance: 2325\n",
      "Umbral: 0.78, Clientes a Contactar: 75, Clientes contratan 54, Balance: 2325\n",
      "Umbral: 0.79, Clientes a Contactar: 75, Clientes contratan 54, Balance: 2325\n",
      "Umbral: 0.80, Clientes a Contactar: 75, Clientes contratan 54, Balance: 2325\n",
      "Umbral: 0.81, Clientes a Contactar: 18, Clientes contratan 11, Balance: 460\n",
      "Umbral: 0.82, Clientes a Contactar: 18, Clientes contratan 11, Balance: 460\n",
      "Umbral: 0.83, Clientes a Contactar: 18, Clientes contratan 11, Balance: 460\n",
      "Umbral: 0.84, Clientes a Contactar: 18, Clientes contratan 11, Balance: 460\n",
      "Umbral: 0.85, Clientes a Contactar: 18, Clientes contratan 11, Balance: 460\n",
      "Umbral: 0.86, Clientes a Contactar: 18, Clientes contratan 11, Balance: 460\n",
      "Umbral: 0.87, Clientes a Contactar: 18, Clientes contratan 11, Balance: 460\n",
      "Umbral: 0.88, Clientes a Contactar: 18, Clientes contratan 11, Balance: 460\n",
      "Umbral: 0.89, Clientes a Contactar: 18, Clientes contratan 11, Balance: 460\n",
      "Umbral: 0.90, Clientes a Contactar: 18, Clientes contratan 11, Balance: 460\n",
      "Umbral: 0.91, Clientes a Contactar: 18, Clientes contratan 11, Balance: 460\n",
      "Umbral: 0.92, Clientes a Contactar: 18, Clientes contratan 11, Balance: 460\n",
      "Umbral: 0.93, Clientes a Contactar: 18, Clientes contratan 11, Balance: 460\n",
      "Umbral: 0.94, Clientes a Contactar: 18, Clientes contratan 11, Balance: 460\n",
      "Umbral: 0.95, Clientes a Contactar: 18, Clientes contratan 11, Balance: 460\n",
      "Umbral: 0.96, Clientes a Contactar: 18, Clientes contratan 11, Balance: 460\n",
      "Umbral: 0.97, Clientes a Contactar: 18, Clientes contratan 11, Balance: 460\n",
      "Umbral: 0.98, Clientes a Contactar: 18, Clientes contratan 11, Balance: 460\n",
      "Umbral: 0.99, Clientes a Contactar: 18, Clientes contratan 11, Balance: 460\n",
      "Umbral: 1.00, Clientes a Contactar: 18, Clientes contratan 11, Balance: 460\n",
      "Umbral óptimo: 0.0, Balance óptimo: -10530\n"
     ]
    }
   ],
   "source": [
    "# defino la función de cálculo\n",
    "\n",
    "def calcular_balance(clientes_contratan_knn, clientes_contactados_knn): # dos argumentos: clientes_contratan y clientes_contactados.\n",
    "    beneficio_por_contratacion_knn = 50 #beneficio obtenido por cada cliente que contrata el producto (\n",
    "    costo_por_llamada_knn = 5 #costo de realizar una llamada\n",
    "    balance_knn = beneficio_por_contratacion_knn * clientes_contratan_knn - costo_por_llamada_knn * clientes_contactados_knn #calculo del balance\n",
    "    return balance_knn\n",
    "\n",
    "# calculo el balance para cada umbral \n",
    "\n",
    "balances_knn = [] # inicializo la lista de balances para que allí se guarde cada iteración\n",
    "clientes_a_contactar_por_umbral_knn = [] # inicializo los clientes a contactar por umbral\n",
    "clientes_contratan_por_umbral_knn = []\n",
    "for umbral in umbrales: #bucle sobra cada umbral \n",
    "    y_pred_knn = y_probs_positiva_knn >= umbral #crea un array de predicciones binarias basado en si la probabilidad es mayor o igual al umbral actual\n",
    "    clientes_contactados_knn = np.sum(y_pred_knn) #cuenta cuántos clientes serían contactados (predicciones positivas).\n",
    "    clientes_contratan_knn = np.sum(y_pred_knn & y_test) #cuenta cuántos de los contactados realmente contratan (verdaderos positivos).\n",
    "    balance_knn = calcular_balance(clientes_contratan_knn, clientes_contactados_knn)\n",
    "    balances_knn.append(balance) #Se calcula el balance para el umbral actual y se añade a la lista balances.\n",
    "    clientes_a_contactar_por_umbral_knn.append(clientes_contactados_knn)  \n",
    "    clientes_contratan_por_umbral_knn.append(clientes_contratan_knn) \n",
    "    \n",
    "    print(f\"Umbral: {umbral:.2f}, Clientes a Contactar: {clientes_contactados_knn}, Clientes contratan {clientes_contratan_knn}, Balance: {balance_knn}\")\n",
    "    \n",
    "# encuentro el mejor umbral\n",
    "    \n",
    "indice_optimo_knn = np.argmax(balances_knn) #devuelve el índice del mayor valor en la lista balances, es decir, el balance más alto.\n",
    "umbral_optimo_knn = umbrales[indice_optimo_knn] # obtiene el valor del umbral correspondiente al mejor balance.\n",
    "balance_optimo_knn = balances[indice_optimo_knn] # obtiene el valor del balance óptimo.\n",
    "\n",
    "print(f\"Umbral óptimo: {umbral_optimo_knn}, Balance óptimo: {balance_optimo_knn}\")\n",
    "\n"
   ]
  },
  {
   "cell_type": "markdown",
   "id": "892e5b7d",
   "metadata": {},
   "source": [
    "Se observa que no se llega al balance que si llegó el modelo de Regresión Logística "
   ]
  }
 ],
 "metadata": {
  "kernelspec": {
   "display_name": "Python 3 (ipykernel)",
   "language": "python",
   "name": "python3"
  },
  "language_info": {
   "codemirror_mode": {
    "name": "ipython",
    "version": 3
   },
   "file_extension": ".py",
   "mimetype": "text/x-python",
   "name": "python",
   "nbconvert_exporter": "python",
   "pygments_lexer": "ipython3",
   "version": "3.12.0"
  }
 },
 "nbformat": 4,
 "nbformat_minor": 5
}
